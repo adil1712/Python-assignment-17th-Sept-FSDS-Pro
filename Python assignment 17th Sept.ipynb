{
 "cells": [
  {
   "cell_type": "code",
   "execution_count": 1,
   "id": "2a87b06e-c844-4b51-9f41-a06a3ec5b0ba",
   "metadata": {},
   "outputs": [
    {
     "name": "stdout",
     "output_type": "stream",
     "text": [
      "1\n",
      "2\n",
      "3\n",
      "4\n",
      "5\n",
      "6\n",
      "7\n",
      "8\n",
      "9\n",
      "10\n"
     ]
    }
   ],
   "source": [
    "#1)Write a Python program to print numbers from 1 to 10 using a for loop.\n",
    "for i in range(1,11):\n",
    "    print(i)"
   ]
  },
  {
   "cell_type": "markdown",
   "id": "d21b5f15-1f79-408b-8379-ce77338a8831",
   "metadata": {},
   "source": [
    "2)Explain the difference between a for loop and a while loop in Python.\n",
    "\n",
    "==> For loop is itrates over sequence of elements when range of elements known or certain,and while loop is execute a block of code repeatedly untill specified condition becomes False.\n"
   ]
  },
  {
   "cell_type": "code",
   "execution_count": 5,
   "id": "2a16d306-5657-4b2b-af51-3d71e60fd1bb",
   "metadata": {},
   "outputs": [
    {
     "name": "stdout",
     "output_type": "stream",
     "text": [
      "The sum of numbers from 1 to 100 is: 5050\n"
     ]
    }
   ],
   "source": [
    "#3)Write a Python program to calculate the sum of all numbers from 1 to 100 using a for loop.\n",
    "# Initialize a variable to store the sum\n",
    "sum_of_numbers = 0\n",
    "\n",
    "# Use a for loop to iterate from 1 to 100 (inclusive)\n",
    "for number in range(1, 101):\n",
    "    sum_of_numbers += number\n",
    "\n",
    "# Display the result\n",
    "print(f\"The sum of numbers from 1 to 100 is: {sum_of_numbers}\")"
   ]
  },
  {
   "cell_type": "code",
   "execution_count": 6,
   "id": "31ef5e78-eadb-4a58-9c68-629c36173396",
   "metadata": {},
   "outputs": [
    {
     "name": "stdout",
     "output_type": "stream",
     "text": [
      "1\n",
      "2\n",
      "3\n",
      "4\n",
      "5\n"
     ]
    }
   ],
   "source": [
    "#4)How do you iterate through a list using a for loop in Python?\n",
    "list_ = [1,2,3,4,5]\n",
    "for i in list_:\n",
    "    print(i)"
   ]
  },
  {
   "cell_type": "code",
   "execution_count": 8,
   "id": "6068de74-cf90-481b-ad22-b22d7a387666",
   "metadata": {},
   "outputs": [
    {
     "name": "stdout",
     "output_type": "stream",
     "text": [
      "The product of the elements in the list is: 120\n"
     ]
    }
   ],
   "source": [
    "#5)Write a Python program to find the product of all elements in a list using a for loop.\n",
    "\n",
    "# Function to find the product of all elements in a list\n",
    "def calculate_product(input_list):\n",
    "    product = 1\n",
    "    for element in input_list:\n",
    "        product *= element\n",
    "    return product\n",
    "\n",
    "# Example usage\n",
    "my_list = [2, 3, 4, 5]\n",
    "result = calculate_product(my_list)\n",
    "\n",
    "print(f\"The product of the elements in the list is: {result}\")\n"
   ]
  },
  {
   "cell_type": "code",
   "execution_count": 9,
   "id": "3881036f-208b-4935-b40f-86f27af304e3",
   "metadata": {},
   "outputs": [
    {
     "name": "stdout",
     "output_type": "stream",
     "text": [
      "[2, 4, 6, 8, 10, 12, 14, 16, 18, 20]\n"
     ]
    }
   ],
   "source": [
    "#6) Create a Python program that prints all even numbers from 1 to 20 using a for loop.\n",
    "list_even = []\n",
    "\n",
    "for i in range(1,21):\n",
    "    if i%2==0:\n",
    "        list_even.append(i)\n",
    "print(list_even)"
   ]
  },
  {
   "cell_type": "code",
   "execution_count": 22,
   "id": "c4c4877a-e835-479b-a99b-c679af5a636a",
   "metadata": {},
   "outputs": [
    {
     "name": "stdin",
     "output_type": "stream",
     "text": [
      "Enter a number 5\n"
     ]
    },
    {
     "name": "stdout",
     "output_type": "stream",
     "text": [
      "120\n"
     ]
    }
   ],
   "source": [
    "#7)Write a Python program that calculates the factorial of a number using a for loop.\n",
    "def factorial(number):\n",
    "    if number<0:\n",
    "        return \"Factorial is not defined for negative numbers.\"\n",
    "    elif number==0 or number ==1:\n",
    "        return 1\n",
    "    else:\n",
    "        factorial_ = 1\n",
    "    for i in range(1,number+1):\n",
    "        \n",
    "        factorial_ *= i\n",
    "        \n",
    "    return factorial_\n",
    "\n",
    "input_num = int(input(\"Enter a number\"))\n",
    "result = factorial(input_num)\n",
    "print(result)"
   ]
  },
  {
   "cell_type": "code",
   "execution_count": 23,
   "id": "9e19b676-9307-478a-ae2d-34fa813e07c2",
   "metadata": {},
   "outputs": [
    {
     "name": "stdout",
     "output_type": "stream",
     "text": [
      "H\n",
      "e\n",
      "l\n",
      "l\n",
      "o\n",
      ",\n",
      " \n",
      "P\n",
      "y\n",
      "t\n",
      "h\n",
      "o\n",
      "n\n"
     ]
    }
   ],
   "source": [
    "#8)How can you iterate through the characters of a string using a for loop in Python?\n",
    "string = \"Hello, Python\"\n",
    "for i in string :\n",
    "    print(i)"
   ]
  },
  {
   "cell_type": "code",
   "execution_count": 25,
   "id": "e0072ee1-3598-42d6-9751-dfc413fa9b32",
   "metadata": {},
   "outputs": [
    {
     "name": "stdout",
     "output_type": "stream",
     "text": [
      "88\n"
     ]
    }
   ],
   "source": [
    "#9)Write a Python program to find the largest number in a list using a for loop.\n",
    "def find_max(numbers):\n",
    "    if not numbers:\n",
    "        return \"The list is empty\"\n",
    "    max_num = numbers[0]\n",
    "    for i in numbers:\n",
    "        if i>max_num:\n",
    "            max_num = i\n",
    "    return max_num\n",
    "input_lst = [2,5,4,88,26,66,49,78]\n",
    "result = find_max(input_lst)\n",
    "print(result)"
   ]
  },
  {
   "cell_type": "code",
   "execution_count": 17,
   "id": "fb819c90-03c3-4ccd-8bac-bbe4d31441df",
   "metadata": {},
   "outputs": [
    {
     "name": "stdin",
     "output_type": "stream",
     "text": [
      "Enter a limit:  100\n"
     ]
    },
    {
     "name": "stdout",
     "output_type": "stream",
     "text": [
      "[0, 1, 1, 2, 3, 5, 8, 13, 21, 34, 55, 89]\n"
     ]
    }
   ],
   "source": [
    "#10)Create a Python program that prints the Fibonacci sequence up to a specified limit using a for loop.\n",
    "def fibonacci_(limit):\n",
    "    fibonacci_s = [0, 1]\n",
    "    while fibonacci_s[-1] + fibonacci_s[-2] <= limit:\n",
    "        fibonacci_s.append(fibonacci_s[-1] + fibonacci_s[-2])\n",
    "    return fibonacci_s\n",
    "\n",
    "try :\n",
    "    input_ = int(input(\"Enter a limit: \"))\n",
    "    result = fibonacci_(input_)\n",
    "    print(result)\n",
    "\n",
    "except ValueError:\n",
    "    print(\"Please enter a valid limit\")"
   ]
  },
  {
   "cell_type": "code",
   "execution_count": 25,
   "id": "fa235a24-670c-4315-a7f5-fad834d1912d",
   "metadata": {},
   "outputs": [
    {
     "name": "stdin",
     "output_type": "stream",
     "text": [
      "Please enter a string Hello, Python!\n"
     ]
    },
    {
     "name": "stdout",
     "output_type": "stream",
     "text": [
      "3\n"
     ]
    }
   ],
   "source": [
    "#11)Write a Python program to count the number of vowels in a given string using a for loop.\n",
    "def count_vowels(string):\n",
    "    count = 0\n",
    "    vowels = \"AEIOUaeiou\"\n",
    "    for i in string:\n",
    "        if i in vowels:\n",
    "            count +=1\n",
    "    return count\n",
    "input_a = str(input(\"Please enter a string\"))\n",
    "result = count_vowels(input_a)\n",
    "print(result)"
   ]
  },
  {
   "cell_type": "code",
   "execution_count": 33,
   "id": "9c7577a8-13ea-4de5-9117-452639bc6589",
   "metadata": {},
   "outputs": [
    {
     "name": "stdin",
     "output_type": "stream",
     "text": [
      "Enter a number 19\n"
     ]
    },
    {
     "name": "stdout",
     "output_type": "stream",
     "text": [
      "19 * 1 = 19\n",
      "19 * 2 = 38\n",
      "19 * 3 = 57\n",
      "19 * 4 = 76\n",
      "19 * 5 = 95\n",
      "19 * 6 = 114\n",
      "19 * 7 = 133\n",
      "19 * 8 = 152\n",
      "19 * 9 = 171\n",
      "19 * 10 = 190\n"
     ]
    }
   ],
   "source": [
    "#12)Create a Python program that generates a multiplication table for a given number using a for loop.\n",
    "def multiplication(num):\n",
    "    for i in range(1,11):\n",
    "        print(num,\"*\",i,\"=\",i*num)\n",
    "input_num = int(input(\"Enter a number\"))\n",
    "result = multiplication(input_num)"
   ]
  },
  {
   "cell_type": "code",
   "execution_count": 1,
   "id": "8f458c28-f8a2-41a0-ac52-f6298759a2ad",
   "metadata": {},
   "outputs": [
    {
     "name": "stdout",
     "output_type": "stream",
     "text": [
      "[87, 65, 31, 78, 44, 5, 0]\n"
     ]
    }
   ],
   "source": [
    "#13)Write a Python program to reverse a list using a for loop.\n",
    "def reverse_list(list_):\n",
    "    l = []\n",
    "    for i in range(len(list_)-1,-1,-1):\n",
    "        l.append(list_[i])\n",
    "    return l\n",
    "\n",
    "input_l = [0,5,44,78,31,65,87]\n",
    "result = reverse_list(input_l)\n",
    "print(result)"
   ]
  },
  {
   "cell_type": "code",
   "execution_count": 15,
   "id": "41b7afff-a9c8-4f49-adee-e1d808f8b30c",
   "metadata": {
    "tags": []
   },
   "outputs": [
    {
     "name": "stdout",
     "output_type": "stream",
     "text": [
      "Common Elements [5, 6, 7, 8]\n"
     ]
    }
   ],
   "source": [
    "#14)Write a Python program to find the common elements between two lists using a for loop.\n",
    "def find_common(list1,list2):\n",
    "    common_ele = []\n",
    "    if len(list1) and len(list2)>=1:\n",
    "        for i in list1:\n",
    "            if i in list2 and i not in common_ele:\n",
    "                common_ele.append(i)\n",
    "    else:\n",
    "        print(\"Please add atlest one element in lists\")\n",
    "    return common_ele\n",
    "input_l1 = [1,2,3,4,5,6,6,7,8]\n",
    "input_l2 = [5,6,7,8,9]\n",
    "\n",
    "result = find_common(input_l1,input_l2)\n",
    "print(\"Common Elements\",result)"
   ]
  },
  {
   "cell_type": "code",
   "execution_count": 17,
   "id": "95e31738-c7e5-49d0-a26a-ebe6f5d42d8d",
   "metadata": {},
   "outputs": [
    {
     "name": "stdout",
     "output_type": "stream",
     "text": [
      "Key: a, Value: 1\n",
      "Key: b, Value: 2\n",
      "Key: c, Value: 3\n",
      "Key: d, Value: 4\n"
     ]
    }
   ],
   "source": [
    "#15)Explain how to use a for loop to iterate through the keys and values of a dictionary in Python.\n",
    "\n",
    "my_dict = {'a': 1, 'b': 2, 'c': 3, 'd': 4}\n",
    "\n",
    "for key, value in my_dict.items():\n",
    "    print(f\"Key: {key}, Value: {value}\")"
   ]
  },
  {
   "cell_type": "code",
   "execution_count": 3,
   "id": "7de1e3a8-699e-459f-81c5-5553debe6ad1",
   "metadata": {},
   "outputs": [
    {
     "name": "stdout",
     "output_type": "stream",
     "text": [
      "The GCD of 48 and 18 is: 6\n"
     ]
    }
   ],
   "source": [
    "#16)Write a Python program to find the GCD (Greatest Common Divisor) of two numbers using a for loop.\n",
    "def gcd(a, b):\n",
    "    # Find the minimum of two numbers\n",
    "    min_num = min(a, b)\n",
    "    # Initialize gcd to 1\n",
    "    gcd = 1\n",
    "    \n",
    "    # Iterate from 1 to the minimum of the two numbers\n",
    "    for i in range(1, min_num + 1):\n",
    "        # Check if i divides both a and b\n",
    "        if a % i == 0 and b % i == 0:\n",
    "            # Update gcd if i is a common divisor\n",
    "            gcd = i\n",
    "    \n",
    "    return gcd\n",
    "\n",
    "# Test the function\n",
    "num1 = 48\n",
    "num2 = 18\n",
    "print(f\"The GCD of {num1} and {num2} is: {gcd(num1, num2)}\")"
   ]
  },
  {
   "cell_type": "code",
   "execution_count": 2,
   "id": "eecbf6ae-e366-49c6-9a2a-602b1f901347",
   "metadata": {},
   "outputs": [
    {
     "name": "stdout",
     "output_type": "stream",
     "text": [
      "'racecar' is a palindrome.\n",
      "'level' is a palindrome.\n",
      "'python' is not a palindrome.\n",
      "'A man a plan a canal Panama' is a palindrome.\n"
     ]
    }
   ],
   "source": [
    "#17)Create a Python program that checks if a string is a palindrome using a for loop.\n",
    "def is_palindrome(s):\n",
    "    # Remove spaces and convert to lowercase for case-insensitive comparison\n",
    "    s = s.replace(\" \", \"\").lower()\n",
    "    # Length of the string\n",
    "    n = len(s)\n",
    "    \n",
    "    # Iterate over the first half of the string\n",
    "    for i in range(n//2):\n",
    "        # Compare characters from the beginning and end of the string\n",
    "        if s[i] != s[n-i-1]:\n",
    "            return False\n",
    "    return True\n",
    "\n",
    "# Test the function\n",
    "test_strings = [\"racecar\", \"level\", \"python\", \"A man a plan a canal Panama\"]\n",
    "\n",
    "for string in test_strings:\n",
    "    if is_palindrome(string):\n",
    "        print(f\"'{string}' is a palindrome.\")\n",
    "    else:\n",
    "        print(f\"'{string}' is not a palindrome.\")"
   ]
  },
  {
   "cell_type": "code",
   "execution_count": 4,
   "id": "39844edb-345f-40bd-8909-7720cd5f49e5",
   "metadata": {},
   "outputs": [
    {
     "name": "stdout",
     "output_type": "stream",
     "text": [
      "Original List: [1, 2, 3, 4, 2, 3, 5, 6, 1]\n",
      "List with Duplicates Removed: [1, 2, 3, 4, 5, 6]\n"
     ]
    }
   ],
   "source": [
    "#18) Write a Python program to remove duplicates from a list using a for loop.\n",
    "def remove_duplicates(lst):\n",
    "    # Create an empty list to store unique elements\n",
    "    unique_list = []\n",
    "    \n",
    "    # Iterate over each element in the original list\n",
    "    for item in lst:\n",
    "        # If the element is not already in the unique_list, add it\n",
    "        if item not in unique_list:\n",
    "            unique_list.append(item)\n",
    "    \n",
    "    return unique_list\n",
    "\n",
    "# Test the function\n",
    "original_list = [1, 2, 3, 4, 2, 3, 5, 6, 1]\n",
    "print(\"Original List:\", original_list)\n",
    "print(\"List with Duplicates Removed:\", remove_duplicates(original_list))"
   ]
  },
  {
   "cell_type": "code",
   "execution_count": 13,
   "id": "b7a78bfb-301e-4377-93e8-f5cbd2875b38",
   "metadata": {},
   "outputs": [
    {
     "name": "stdin",
     "output_type": "stream",
     "text": [
      "Enter a sentence : Hello World\n"
     ]
    },
    {
     "name": "stdout",
     "output_type": "stream",
     "text": [
      "2\n"
     ]
    }
   ],
   "source": [
    "#19) Create a Python program that counts the number of words in a sentence using a for loop.\n",
    "def count_words(sentence):\n",
    "    count = 0\n",
    "    for i in sentence:\n",
    "        if i == ' ':\n",
    "            count+=1\n",
    "    count += 1\n",
    "    return count\n",
    "input_a = input(\"Enter a sentence :\")\n",
    "result = count_words(input_a)\n",
    "print(result)"
   ]
  },
  {
   "cell_type": "code",
   "execution_count": 19,
   "id": "d9964960-d74d-4b92-906c-595be0278dfd",
   "metadata": {},
   "outputs": [
    {
     "name": "stdout",
     "output_type": "stream",
     "text": [
      "Sum of all odd numbers is  625\n"
     ]
    }
   ],
   "source": [
    "#20) Write a Python program to find the sum of all odd numbers from 1 to 50 using a for loop.\n",
    "sum_odd = 0\n",
    "\n",
    "for i in range(1,51):\n",
    "    if i%2!=0:\n",
    "        sum_odd += i\n",
    "\n",
    "print(\"Sum of all odd numbers is \",sum_odd)"
   ]
  },
  {
   "cell_type": "code",
   "execution_count": 24,
   "id": "705b9801-09fd-4876-a2b3-4ab1085ca8af",
   "metadata": {},
   "outputs": [
    {
     "name": "stdin",
     "output_type": "stream",
     "text": [
      "Enter a Year : 2024\n"
     ]
    },
    {
     "name": "stdout",
     "output_type": "stream",
     "text": [
      "Year is a leap year\n"
     ]
    }
   ],
   "source": [
    "#21)Write a Python program that checks if a given year is a leap year using a for loop.\n",
    "def check_year(year):\n",
    "    if (year%4==0 and year%100!=0) or (year%400==0):\n",
    "        return \"Year is a leap year\"\n",
    "    else:\n",
    "        return \"The year is not a leap year\"\n",
    "\n",
    "input_year = int(input(\"Enter a Year :\"))\n",
    "result = check_year(input_year)\n",
    "print(result)"
   ]
  },
  {
   "cell_type": "code",
   "execution_count": 28,
   "id": "eff62cbb-f3b6-4177-b706-880c01934bbf",
   "metadata": {},
   "outputs": [
    {
     "name": "stdin",
     "output_type": "stream",
     "text": [
      "Enter a number:  25\n"
     ]
    },
    {
     "name": "stdout",
     "output_type": "stream",
     "text": [
      "The square root of 25.0 is approximately 5.0000\n"
     ]
    }
   ],
   "source": [
    "#22) Create a Python program that calculates the square root of a number using a for loop.\n",
    "def square_root(num):\n",
    "    # Initial guess for the square root\n",
    "    guess = num / 2\n",
    "    # Define the tolerance for the approximation\n",
    "    tolerance = 0.0001\n",
    "    \n",
    "    # Iterate until the difference between guess*guess and num is within the tolerance\n",
    "    for _ in range(100):  # Set a maximum number of iterations to avoid infinite loops\n",
    "        new_guess = (guess + num / guess) / 2\n",
    "        if abs(new_guess - guess) < tolerance:\n",
    "            break  # Stop iteration if the difference is within tolerance\n",
    "        guess = new_guess\n",
    "    \n",
    "    return guess\n",
    "\n",
    "# Test the function\n",
    "number = float(input(\"Enter a number: \"))\n",
    "result = square_root(number)\n",
    "print(f\"The square root of {number} is approximately {result:.4f}\")"
   ]
  },
  {
   "cell_type": "code",
   "execution_count": 32,
   "id": "669e076b-6a27-4bd8-a08c-3b89f41a207d",
   "metadata": {},
   "outputs": [
    {
     "name": "stdin",
     "output_type": "stream",
     "text": [
      "Enter first number:  144\n",
      "Enter second number:  12\n"
     ]
    },
    {
     "name": "stdout",
     "output_type": "stream",
     "text": [
      "The LCM of 144 and 12 is: 144\n"
     ]
    }
   ],
   "source": [
    "#23) Write a Python program to find the LCM (Least Common Multiple) of two numbers using a for loop.\n",
    "def gcd(a, b):\n",
    "    # Find the greatest common divisor (GCD) of two numbers\n",
    "    while b:\n",
    "        a, b = b, a % b\n",
    "    return a\n",
    "\n",
    "def lcm(a, b):\n",
    "    # Find the least common multiple (LCM) using the GCD\n",
    "    return (a * b) // gcd(a, b)\n",
    "\n",
    "# Test the function\n",
    "num1 = int(input(\"Enter first number: \"))\n",
    "num2 = int(input(\"Enter second number: \"))\n",
    "\n",
    "lcm_result = lcm(num1, num2)\n",
    "print(f\"The LCM of {num1} and {num2} is: {lcm_result}\")"
   ]
  },
  {
   "cell_type": "markdown",
   "id": "63b2718f-7929-47c8-be10-bc6b259c8419",
   "metadata": {},
   "source": [
    "IF ELSE:\n",
    "    "
   ]
  },
  {
   "cell_type": "code",
   "execution_count": 33,
   "id": "af32bf94-e6f3-497c-bc46-5fc0bbac020a",
   "metadata": {},
   "outputs": [
    {
     "name": "stdin",
     "output_type": "stream",
     "text": [
      "Enter a number:  5\n"
     ]
    },
    {
     "name": "stdout",
     "output_type": "stream",
     "text": [
      "The number is positive.\n"
     ]
    }
   ],
   "source": [
    "#1) Write a Python program to check if a number is positive, negative, or zero using an if-else statement.\n",
    "def check_number(num):\n",
    "    if num > 0:\n",
    "        print(\"The number is positive.\")\n",
    "    elif num < 0:\n",
    "        print(\"The number is negative.\")\n",
    "    else:\n",
    "        print(\"The number is zero.\")\n",
    "\n",
    "# Test the function\n",
    "number = float(input(\"Enter a number: \"))\n",
    "check_number(number)"
   ]
  },
  {
   "cell_type": "code",
   "execution_count": 34,
   "id": "7ce1aa9c-e811-4832-a5dc-54699356ccf8",
   "metadata": {},
   "outputs": [
    {
     "name": "stdin",
     "output_type": "stream",
     "text": [
      "Enter a number:  5\n"
     ]
    },
    {
     "name": "stdout",
     "output_type": "stream",
     "text": [
      "The number is odd.\n"
     ]
    }
   ],
   "source": [
    "#2) Create a Python program that checks if a given number is even or odd using an if-else statement.\n",
    "def check_even_odd(num):\n",
    "    if num % 2 == 0:\n",
    "        print(\"The number is even.\")\n",
    "    else:\n",
    "        print(\"The number is odd.\")\n",
    "\n",
    "# Test the function\n",
    "number = int(input(\"Enter a number: \"))\n",
    "check_even_odd(number)"
   ]
  },
  {
   "cell_type": "code",
   "execution_count": 35,
   "id": "5de9cd6c-ae30-41a9-9cd0-3d93b214d2b8",
   "metadata": {},
   "outputs": [
    {
     "name": "stdin",
     "output_type": "stream",
     "text": [
      "Enter your score:  50\n"
     ]
    },
    {
     "name": "stdout",
     "output_type": "stream",
     "text": [
      "Your grade is: F\n"
     ]
    }
   ],
   "source": [
    "#3) How can you use nested if-else statements in Python, and provide an example?\n",
    "\n",
    "#Nested if-else statements in Python are used to handle more complex conditional logic where there are multiple \n",
    "#levels of conditions. In nested if-else statements, one or more if-else statements are nested inside another \n",
    "#if or else block. This allows for more granular control over the flow of the program based on different conditions.'\n",
    "\n",
    "def check_grade(score):\n",
    "    if score >= 90:\n",
    "        grade = 'A'\n",
    "        if score >= 95:\n",
    "            grade += '+'\n",
    "    elif score >= 80:\n",
    "        grade = 'B'\n",
    "        if score >= 85:\n",
    "            grade += '+'\n",
    "    elif score >= 70:\n",
    "        grade = 'C'\n",
    "        if score >= 75:\n",
    "            grade += '+'\n",
    "    elif score >= 60:\n",
    "        grade = 'D'\n",
    "        if score >= 65:\n",
    "            grade += '+'\n",
    "    else:\n",
    "        grade = 'F'\n",
    "\n",
    "    return grade\n",
    "\n",
    "# Test the function\n",
    "score = int(input(\"Enter your score: \"))\n",
    "print(\"Your grade is:\", check_grade(score))"
   ]
  },
  {
   "cell_type": "code",
   "execution_count": 36,
   "id": "6535d672-8b9b-4417-9712-ed3da49243db",
   "metadata": {},
   "outputs": [
    {
     "name": "stdin",
     "output_type": "stream",
     "text": [
      "Enter the first number:  5\n",
      "Enter the second number:  55\n",
      "Enter the third number:  25\n"
     ]
    },
    {
     "name": "stdout",
     "output_type": "stream",
     "text": [
      "The largest number is: 55.0\n"
     ]
    }
   ],
   "source": [
    "#4) Write a Python program to determine the largest of three numbers using if-else.\n",
    "def find_largest(num1, num2, num3):\n",
    "    if num1 >= num2 and num1 >= num3:\n",
    "        largest = num1\n",
    "    elif num2 >= num1 and num2 >= num3:\n",
    "        largest = num2\n",
    "    else:\n",
    "        largest = num3\n",
    "    return largest\n",
    "\n",
    "# Test the function\n",
    "num1 = float(input(\"Enter the first number: \"))\n",
    "num2 = float(input(\"Enter the second number: \"))\n",
    "num3 = float(input(\"Enter the third number: \"))\n",
    "\n",
    "largest_number = find_largest(num1, num2, num3)\n",
    "print(f\"The largest number is: {largest_number}\")"
   ]
  },
  {
   "cell_type": "code",
   "execution_count": 38,
   "id": "24f7b816-188e-42af-a097-488e364c32de",
   "metadata": {},
   "outputs": [
    {
     "name": "stdin",
     "output_type": "stream",
     "text": [
      "Enter a number:  -5\n"
     ]
    },
    {
     "name": "stdout",
     "output_type": "stream",
     "text": [
      "The absolute value of -5.0 is: 5.0\n"
     ]
    }
   ],
   "source": [
    "#5) Write a Python program that calculates the absolute value of a number using if-else.\n",
    "def absolute_value(num):\n",
    "    if num >= 0:\n",
    "        return num\n",
    "    else:\n",
    "        return -num\n",
    "\n",
    "# Test the function\n",
    "number = float(input(\"Enter a number: \"))\n",
    "abs_value = absolute_value(number)\n",
    "print(f\"The absolute value of {number} is: {abs_value}\")"
   ]
  },
  {
   "cell_type": "code",
   "execution_count": 39,
   "id": "3f84e2f6-16a0-45c7-ada8-85b01c708bf0",
   "metadata": {},
   "outputs": [
    {
     "name": "stdin",
     "output_type": "stream",
     "text": [
      "Enter a character:  f\n"
     ]
    },
    {
     "name": "stdout",
     "output_type": "stream",
     "text": [
      "The character 'f' is a consonant.\n"
     ]
    }
   ],
   "source": [
    "#6) Create a Python program that checks if a given character is a vowel or consonant using if-else.\n",
    "def check_vowel_consonant(char):\n",
    "    # Convert the character to lowercase for case-insensitive comparison\n",
    "    char = char.lower()\n",
    "    \n",
    "    # Check if the character is a vowel or a consonant\n",
    "    if char in 'aeiou':\n",
    "        return f\"The character '{char}' is a vowel.\"\n",
    "    elif char.isalpha():\n",
    "        return f\"The character '{char}' is a consonant.\"\n",
    "    else:\n",
    "        return f\"The character '{char}' is not a vowel or a consonant.\"\n",
    "\n",
    "# Test the function\n",
    "character = input(\"Enter a character: \")\n",
    "\n",
    "# Ensure only the first character is considered\n",
    "result = check_vowel_consonant(character[0])\n",
    "print(result)"
   ]
  },
  {
   "cell_type": "code",
   "execution_count": 40,
   "id": "29fa4d2d-28af-4516-bf39-2bed3b54e22f",
   "metadata": {},
   "outputs": [
    {
     "name": "stdin",
     "output_type": "stream",
     "text": [
      "Enter your age:  25\n"
     ]
    },
    {
     "name": "stdout",
     "output_type": "stream",
     "text": [
      "You are eligible to vote.\n"
     ]
    }
   ],
   "source": [
    "#7) Write a Python program to determine if a user is eligible to vote based on their age using if-else.\n",
    "def check_voting_eligibility(age):\n",
    "    if age >= 18:\n",
    "        print(\"You are eligible to vote.\")\n",
    "    else:\n",
    "        print(\"You are not eligible to vote yet.\")\n",
    "\n",
    "# Test the function\n",
    "user_age = int(input(\"Enter your age: \"))\n",
    "check_voting_eligibility(user_age)"
   ]
  },
  {
   "cell_type": "code",
   "execution_count": 41,
   "id": "441981fe-7aa1-438e-a89a-c2158d6fcc1f",
   "metadata": {},
   "outputs": [
    {
     "name": "stdin",
     "output_type": "stream",
     "text": [
      "Enter the purchase amount: $ 500\n"
     ]
    },
    {
     "name": "stdout",
     "output_type": "stream",
     "text": [
      "The discount amount for a purchase of $500.00 is $25.00\n"
     ]
    }
   ],
   "source": [
    "#8) Create a Python program that calculates the discount amount based on the purchase amount using if-else.\n",
    "def calculate_discount(purchase_amount):\n",
    "    if purchase_amount >= 1000:\n",
    "        discount_percentage = 10\n",
    "    elif purchase_amount >= 500:\n",
    "        discount_percentage = 5\n",
    "    else:\n",
    "        discount_percentage = 0\n",
    "    \n",
    "    discount_amount = purchase_amount * (discount_percentage / 100)\n",
    "    return discount_amount\n",
    "\n",
    "# Test the function\n",
    "purchase_amount = float(input(\"Enter the purchase amount: $\"))\n",
    "discount = calculate_discount(purchase_amount)\n",
    "print(f\"The discount amount for a purchase of ${purchase_amount:.2f} is ${discount:.2f}\")"
   ]
  },
  {
   "cell_type": "code",
   "execution_count": 42,
   "id": "92e1f64a-69e4-4072-b0ea-ef2d7c621313",
   "metadata": {},
   "outputs": [
    {
     "name": "stdin",
     "output_type": "stream",
     "text": [
      "Enter the lower bound of the range:  40\n",
      "Enter the upper bound of the range:  500\n",
      "Enter a number to check:  5\n"
     ]
    },
    {
     "name": "stdout",
     "output_type": "stream",
     "text": [
      "The number 5.0 is not within the range [40.0, 500.0].\n"
     ]
    }
   ],
   "source": [
    "#9) Write a Python program to check if a number is within a specified range using if-else.\n",
    "def check_within_range(number, lower_bound, upper_bound):\n",
    "    if number >= lower_bound and number <= upper_bound:\n",
    "        print(f\"The number {number} is within the range [{lower_bound}, {upper_bound}].\")\n",
    "    else:\n",
    "        print(f\"The number {number} is not within the range [{lower_bound}, {upper_bound}].\")\n",
    "\n",
    "# Test the function\n",
    "lower_bound = float(input(\"Enter the lower bound of the range: \"))\n",
    "upper_bound = float(input(\"Enter the upper bound of the range: \"))\n",
    "number = float(input(\"Enter a number to check: \"))\n",
    "check_within_range(number, lower_bound, upper_bound)"
   ]
  },
  {
   "cell_type": "code",
   "execution_count": 43,
   "id": "41c17b5c-6d43-4b2f-8466-c005e02dd402",
   "metadata": {},
   "outputs": [
    {
     "name": "stdin",
     "output_type": "stream",
     "text": [
      "Enter the student's score:  60\n"
     ]
    },
    {
     "name": "stdout",
     "output_type": "stream",
     "text": [
      "The student's grade is: D\n"
     ]
    }
   ],
   "source": [
    "#10) Create a Python program that determines the grade of a student based on their score using if-else.\n",
    "def calculate_grade(score):\n",
    "    if score >= 90:\n",
    "        grade = 'A'\n",
    "    elif score >= 80:\n",
    "        grade = 'B'\n",
    "    elif score >= 70:\n",
    "        grade = 'C'\n",
    "    elif score >= 60:\n",
    "        grade = 'D'\n",
    "    else:\n",
    "        grade = 'F'\n",
    "    return grade\n",
    "\n",
    "# Test the function\n",
    "score = float(input(\"Enter the student's score: \"))\n",
    "\n",
    "if score < 0 or score > 100:\n",
    "    print(\"Invalid score. Please enter a score between 0 and 100.\")\n",
    "else:\n",
    "    grade = calculate_grade(score)\n",
    "    print(f\"The student's grade is: {grade}\")"
   ]
  },
  {
   "cell_type": "code",
   "execution_count": 45,
   "id": "f0f232f4-b64c-448a-a613-32a22835d480",
   "metadata": {},
   "outputs": [
    {
     "name": "stdin",
     "output_type": "stream",
     "text": [
      "Enter a string:  \n"
     ]
    },
    {
     "name": "stdout",
     "output_type": "stream",
     "text": [
      "The string is empty.\n"
     ]
    }
   ],
   "source": [
    "#11) Write a Python program to check if a string is empty or not using if-else.\n",
    "def check_empty_string(string):\n",
    "    if string:\n",
    "        print(\"The string is not empty.\")\n",
    "    else:\n",
    "        print(\"The string is empty.\")\n",
    "\n",
    "# Test the function\n",
    "user_input = input(\"Enter a string: \")\n",
    "check_empty_string(user_input)"
   ]
  },
  {
   "cell_type": "code",
   "execution_count": 46,
   "id": "85e74d17-29ba-4f1f-a0eb-c9dbbb0244e7",
   "metadata": {},
   "outputs": [
    {
     "name": "stdin",
     "output_type": "stream",
     "text": [
      "Enter the length of the first side:  10\n",
      "Enter the length of the second side:  10\n",
      "Enter the length of the third side:  5\n"
     ]
    },
    {
     "name": "stdout",
     "output_type": "stream",
     "text": [
      "The triangle formed by sides 10.0, 10.0, and 5.0 is a Isosceles Triangle.\n"
     ]
    }
   ],
   "source": [
    "#12) Create a Python program that identifies the type of a triangle (e.g., equilateral, isosceles, or scalene) based on input values using if-else.\n",
    "def identify_triangle_type(side1, side2, side3):\n",
    "    if side1 == side2 == side3:\n",
    "        return \"Equilateral Triangle\"\n",
    "    elif side1 == side2 or side1 == side3 or side2 == side3:\n",
    "        return \"Isosceles Triangle\"\n",
    "    else:\n",
    "        return \"Scalene Triangle\"\n",
    "\n",
    "# Test the function\n",
    "side1 = float(input(\"Enter the length of the first side: \"))\n",
    "side2 = float(input(\"Enter the length of the second side: \"))\n",
    "side3 = float(input(\"Enter the length of the third side: \"))\n",
    "\n",
    "if side1 <= 0 or side2 <= 0 or side3 <= 0:\n",
    "    print(\"Invalid side lengths. All side lengths must be positive.\")\n",
    "else:\n",
    "    triangle_type = identify_triangle_type(side1, side2, side3)\n",
    "    print(f\"The triangle formed by sides {side1}, {side2}, and {side3} is a {triangle_type}.\")"
   ]
  },
  {
   "cell_type": "code",
   "execution_count": 47,
   "id": "4cbfe5f5-4ea2-428e-9d05-d7845e605a48",
   "metadata": {},
   "outputs": [
    {
     "name": "stdin",
     "output_type": "stream",
     "text": [
      "Enter a number (1-7) to determine the day of the week:  5\n"
     ]
    },
    {
     "name": "stdout",
     "output_type": "stream",
     "text": [
      "The day of the week corresponding to number 5 is: Friday\n"
     ]
    }
   ],
   "source": [
    "#13) Write a Python program to determine the day of the week based on a user-provided number using if-else.\n",
    "def determine_day_of_week(day_number):\n",
    "    if day_number == 1:\n",
    "        return \"Monday\"\n",
    "    elif day_number == 2:\n",
    "        return \"Tuesday\"\n",
    "    elif day_number == 3:\n",
    "        return \"Wednesday\"\n",
    "    elif day_number == 4:\n",
    "        return \"Thursday\"\n",
    "    elif day_number == 5:\n",
    "        return \"Friday\"\n",
    "    elif day_number == 6:\n",
    "        return \"Saturday\"\n",
    "    elif day_number == 7:\n",
    "        return \"Sunday\"\n",
    "    else:\n",
    "        return \"Invalid day number. Please enter a number between 1 and 7.\"\n",
    "\n",
    "# Test the function\n",
    "day_number = int(input(\"Enter a number (1-7) to determine the day of the week: \"))\n",
    "\n",
    "day_of_week = determine_day_of_week(day_number)\n",
    "print(f\"The day of the week corresponding to number {day_number} is: {day_of_week}\")"
   ]
  },
  {
   "cell_type": "code",
   "execution_count": 48,
   "id": "86c2f1f1-dc5e-4046-8d17-e26e97071646",
   "metadata": {},
   "outputs": [
    {
     "name": "stdin",
     "output_type": "stream",
     "text": [
      "Enter a year to check if it's a leap year:  2024\n"
     ]
    },
    {
     "name": "stdout",
     "output_type": "stream",
     "text": [
      "2024 is a leap year.\n"
     ]
    }
   ],
   "source": [
    "#14) Create a Python program that checks if a given year is a leap year using both if-else and a function.\n",
    "def is_leap_year(year):\n",
    "    if (year % 4 == 0 and year % 100 != 0) or (year % 400 == 0):\n",
    "        return True\n",
    "    else:\n",
    "        return False\n",
    "\n",
    "# Test the function\n",
    "year = int(input(\"Enter a year to check if it's a leap year: \"))\n",
    "\n",
    "if is_leap_year(year):\n",
    "    print(f\"{year} is a leap year.\")\n",
    "else:\n",
    "    print(f\"{year} is not a leap year.\")"
   ]
  },
  {
   "cell_type": "code",
   "execution_count": 49,
   "id": "95bd6cf9-a674-4309-9a5e-3e9f241abd8f",
   "metadata": {},
   "outputs": [
    {
     "name": "stdout",
     "output_type": "stream",
     "text": [
      "Cannot perform division: Denominator is zero\n"
     ]
    }
   ],
   "source": [
    "#15) How do you use the \"assert\" statement in Python to add debugging checks within if-else blocks?\n",
    "def divide(a, b):\n",
    "    assert b != 0, \"Divisor cannot be zero\"\n",
    "    return a / b\n",
    "\n",
    "# Test the function\n",
    "numerator = 10\n",
    "denominator = 0\n",
    "\n",
    "if denominator != 0:\n",
    "    result = divide(numerator, denominator)\n",
    "    print(\"Result:\", result)\n",
    "else:\n",
    "    print(\"Cannot perform division: Denominator is zero\")"
   ]
  },
  {
   "cell_type": "code",
   "execution_count": 50,
   "id": "95220f2a-341e-49ce-812b-2413e98e9524",
   "metadata": {},
   "outputs": [
    {
     "name": "stdin",
     "output_type": "stream",
     "text": [
      "Enter your age:  55\n"
     ]
    },
    {
     "name": "stdout",
     "output_type": "stream",
     "text": [
      "Sorry, you are not eligible for a senior citizen discount.\n"
     ]
    }
   ],
   "source": [
    "'''16) Create a Python program that determines the eligibility of a person for a senior \n",
    "citizen discount based on age using if-else.'''\n",
    "def check_senior_discount_eligibility(age):\n",
    "    if age >= 60:\n",
    "        print(\"Congratulations! You are eligible for a senior citizen discount.\")\n",
    "    else:\n",
    "        print(\"Sorry, you are not eligible for a senior citizen discount.\")\n",
    "\n",
    "# Test the function\n",
    "age = int(input(\"Enter your age: \"))\n",
    "check_senior_discount_eligibility(age)"
   ]
  },
  {
   "cell_type": "code",
   "execution_count": 51,
   "id": "0db7e100-7848-4638-bad6-4808cf5bab82",
   "metadata": {},
   "outputs": [
    {
     "name": "stdin",
     "output_type": "stream",
     "text": [
      "Enter a character:  A\n"
     ]
    },
    {
     "name": "stdout",
     "output_type": "stream",
     "text": [
      "The character 'A' is Uppercase.\n"
     ]
    }
   ],
   "source": [
    "#17) Write a Python program to categorize a given character as uppercase, lowercase, or neither using if-else.\n",
    "def categorize_character(char):\n",
    "    if char.isupper():\n",
    "        return \"Uppercase\"\n",
    "    elif char.islower():\n",
    "        return \"Lowercase\"\n",
    "    else:\n",
    "        return \"Neither uppercase nor lowercase\"\n",
    "\n",
    "# Test the function\n",
    "character = input(\"Enter a character: \")\n",
    "\n",
    "category = categorize_character(character)\n",
    "\n",
    "print(f\"The character '{character}' is {category}.\")"
   ]
  },
  {
   "cell_type": "code",
   "execution_count": 52,
   "id": "8efb7073-40e7-4010-8170-cfb6f47c1e80",
   "metadata": {},
   "outputs": [
    {
     "name": "stdin",
     "output_type": "stream",
     "text": [
      "Enter the coefficient of x^2 (a):  25\n",
      "Enter the coefficient of x (b):  5\n",
      "Enter the constant term (c):  1\n"
     ]
    },
    {
     "name": "stdout",
     "output_type": "stream",
     "text": [
      "Roots of the quadratic equation:\n",
      "Root 1: (-0.1+0.17320508075688776j)\n",
      "Root 2: (-0.1-0.17320508075688776j)\n"
     ]
    }
   ],
   "source": [
    "#18) Write a Python program to determine the roots of a quadratic equation using if-else.\n",
    "import math\n",
    "\n",
    "def find_roots(a, b, c):\n",
    "    # Calculate the discriminant\n",
    "    discriminant = b**2 - 4*a*c\n",
    "\n",
    "    # Check the value of the discriminant to determine the nature of the roots\n",
    "    if discriminant > 0:\n",
    "        # Two distinct real roots\n",
    "        root1 = (-b + math.sqrt(discriminant)) / (2*a)\n",
    "        root2 = (-b - math.sqrt(discriminant)) / (2*a)\n",
    "        return root1, root2\n",
    "    elif discriminant == 0:\n",
    "        # One real root (repeated)\n",
    "        root = -b / (2*a)\n",
    "        return root, root\n",
    "    else:\n",
    "        # Complex roots\n",
    "        real_part = -b / (2*a)\n",
    "        imaginary_part = math.sqrt(abs(discriminant)) / (2*a)\n",
    "        root1 = complex(real_part, imaginary_part)\n",
    "        root2 = complex(real_part, -imaginary_part)\n",
    "        return root1, root2\n",
    "\n",
    "# Test the function\n",
    "a = float(input(\"Enter the coefficient of x^2 (a): \"))\n",
    "b = float(input(\"Enter the coefficient of x (b): \"))\n",
    "c = float(input(\"Enter the constant term (c): \"))\n",
    "\n",
    "roots = find_roots(a, b, c)\n",
    "\n",
    "print(\"Roots of the quadratic equation:\")\n",
    "print(\"Root 1:\", roots[0])\n",
    "print(\"Root 2:\", roots[1])"
   ]
  },
  {
   "cell_type": "code",
   "execution_count": 53,
   "id": "798af18d-250a-4bca-9bec-3a10a8494226",
   "metadata": {},
   "outputs": [
    {
     "name": "stdin",
     "output_type": "stream",
     "text": [
      "Enter a year to check if it's a century year:  2500\n"
     ]
    },
    {
     "name": "stdout",
     "output_type": "stream",
     "text": [
      "2500 is a century year.\n"
     ]
    }
   ],
   "source": [
    "#19) Create a Python program that checks if a given year is a century year or not using if-else.\n",
    "def is_century_year(year):\n",
    "    if year % 100 == 0:\n",
    "        return True\n",
    "    else:\n",
    "        return False\n",
    "\n",
    "# Test the function\n",
    "year = int(input(\"Enter a year to check if it's a century year: \"))\n",
    "\n",
    "if is_century_year(year):\n",
    "    print(f\"{year} is a century year.\")\n",
    "else:\n",
    "    print(f\"{year} is not a century year.\")"
   ]
  },
  {
   "cell_type": "code",
   "execution_count": 54,
   "id": "bc0461d7-66a5-4503-9c83-9b0776ec4699",
   "metadata": {},
   "outputs": [
    {
     "name": "stdin",
     "output_type": "stream",
     "text": [
      "Enter a number to check if it's a perfect square:  25\n"
     ]
    },
    {
     "name": "stdout",
     "output_type": "stream",
     "text": [
      "25 is a perfect square.\n"
     ]
    }
   ],
   "source": [
    "#20) Write a Python program to determine if a given number is a perfect square using if-else.\n",
    "def is_perfect_square(number):\n",
    "    if number < 0:\n",
    "        return False  # Negative numbers are not perfect squares\n",
    "    elif number == 0:\n",
    "        return True   # Zero is a perfect square\n",
    "    else:\n",
    "        # Iterate through numbers from 1 to the square root of the given number\n",
    "        for i in range(1, int(number**0.5) + 1):\n",
    "            if i * i == number:\n",
    "                return True\n",
    "        return False\n",
    "\n",
    "# Test the function\n",
    "number = int(input(\"Enter a number to check if it's a perfect square: \"))\n",
    "\n",
    "if is_perfect_square(number):\n",
    "    print(f\"{number} is a perfect square.\")\n",
    "else:\n",
    "    print(f\"{number} is not a perfect square.\")"
   ]
  },
  {
   "cell_type": "code",
   "execution_count": null,
   "id": "18ea2f8c-59e1-4e73-a9b1-36ce798f3e02",
   "metadata": {},
   "outputs": [],
   "source": [
    "#21) Explain the purpose of the \"continue\" and \"break\" statements within if-else loops.\n",
    "'''\"continue\" statement: When encountered within a loop (such as a for loop or a while loop), the \"continue\"\n",
    "statement immediately stops the current iteration of the loop and moves on to the next iteration. In other\n",
    "words, if the program encounters a \"continue\" statement, it skips the rest of the code in the loop for the\n",
    "current iteration and jumps back to the beginning of the loop to start the next iteration.\n",
    "\n",
    "\"break\" statement: On the other hand, when a \"break\" statement is encountered within a loop, it immediately \n",
    "terminates the entire loop, regardless of whether the loop has finished all its iterations or not. Once the \n",
    "program encounters a \"break\" statement, it exits the loop and continues with the next line of code after the\n",
    "loop.'''\n"
   ]
  },
  {
   "cell_type": "code",
   "execution_count": 3,
   "id": "949e213e-1aaa-4b24-b283-df74025fbe53",
   "metadata": {},
   "outputs": [
    {
     "name": "stdin",
     "output_type": "stream",
     "text": [
      "Enter weight in kilograms:  51\n",
      "Enter height in meters:  1.65\n"
     ]
    },
    {
     "name": "stdout",
     "output_type": "stream",
     "text": [
      "Person is Normal weight\n"
     ]
    }
   ],
   "source": [
    "#22)Create a Python program that calculates the BMI (Body Mass Index) of a person based on their weight and \n",
    "#height using if-else.\n",
    "def calculate_bmi(weight, height):\n",
    "    try:\n",
    "        weight = float(weight)\n",
    "        height = float(height)\n",
    "        if weight <= 0 or height <= 0:\n",
    "            print(\"Weight and height must be positive numbers.\")\n",
    "            return\n",
    "        bmi = weight / (height ** 2)\n",
    "        if 0 <= bmi < 18.5:\n",
    "            print(\"Person is Underweight\")\n",
    "        elif 18.5 <= bmi <= 24.9:\n",
    "            print(\"Person is Normal weight\")\n",
    "        elif 25 <= bmi <= 29.9:\n",
    "            print(\"Person is Overweight\")\n",
    "        else:\n",
    "            print(\"Person has Obesity\")\n",
    "    except ValueError:\n",
    "        print(\"Invalid input. Please enter numeric values for weight and height.\")\n",
    "\n",
    "# Example usage:\n",
    "weight_input = input(\"Enter weight in kilograms: \")\n",
    "height_input = input(\"Enter height in meters: \")\n",
    "calculate_bmi(weight_input, height_input)"
   ]
  },
  {
   "cell_type": "code",
   "execution_count": 2,
   "id": "7fd0f779-04a6-4f6f-8066-1914ccf467ea",
   "metadata": {},
   "outputs": [
    {
     "name": "stdout",
     "output_type": "stream",
     "text": [
      "[2, 4, 6, 8, 10]\n"
     ]
    }
   ],
   "source": [
    "#23)How can you use the \"filter()\" function with if-else statements to filter elements from a list?\n",
    "# Define the filtering function\n",
    "def filter_even(x):\n",
    "    if x % 2 == 0:\n",
    "        return True  # Include the element\n",
    "    else:\n",
    "        return False  # Exclude the element\n",
    "\n",
    "# Create a list\n",
    "my_list = [1, 2, 3, 4, 5, 6, 7, 8, 9, 10]\n",
    "\n",
    "# Use filter() with the filtering function\n",
    "filtered_list = filter(filter_even, my_list)\n",
    "\n",
    "# Convert the filtered result to a list\n",
    "filtered_list = list(filtered_list)\n",
    "\n",
    "print(filtered_list)  # Output: [2, 4, 6, 8, 10]"
   ]
  },
  {
   "cell_type": "code",
   "execution_count": 4,
   "id": "3f6e4363-a56a-4c2f-8ae4-4fba69ac307f",
   "metadata": {},
   "outputs": [
    {
     "name": "stdin",
     "output_type": "stream",
     "text": [
      "Enter a number:  25\n"
     ]
    },
    {
     "name": "stdout",
     "output_type": "stream",
     "text": [
      "25 is not a prime number\n"
     ]
    }
   ],
   "source": [
    "#24) Write a Python program to determine if a given number is prime or not using if-else.\n",
    "def is_prime(number):\n",
    "    if number <= 1:\n",
    "        return False  # 1 and numbers less than or equal to 1 are not prime\n",
    "    elif number == 2:\n",
    "        return True  # 2 is a prime number\n",
    "    else:\n",
    "        # Check for factors from 2 to the square root of the number\n",
    "        for i in range(2, int(number**0.5) + 1):\n",
    "            if number % i == 0:\n",
    "                return False  # If the number is divisible by any number in this range, it's not prime\n",
    "        return True  # If the number is not divisible by any number in the range, it's prime\n",
    "\n",
    "# Input number from the user\n",
    "num = int(input(\"Enter a number: \"))\n",
    "\n",
    "# Check if the number is prime\n",
    "if is_prime(num):\n",
    "    print(num, \"is a prime number\")\n",
    "else:\n",
    "    print(num, \"is not a prime number\")"
   ]
  },
  {
   "cell_type": "code",
   "execution_count": null,
   "id": "02014ae4-2582-464f-b2db-677cb452b609",
   "metadata": {},
   "outputs": [],
   "source": [
    "Map"
   ]
  },
  {
   "cell_type": "code",
   "execution_count": 1,
   "id": "6aed4100-a80b-4cc6-97f7-668a2e7e7c6e",
   "metadata": {},
   "outputs": [
    {
     "name": "stdout",
     "output_type": "stream",
     "text": [
      "[1, 4, 9, 16, 25]\n"
     ]
    }
   ],
   "source": [
    "#1)Explain the purpose of the `map()` function in Python and provide an example of how it can be used to apply a function to each element\n",
    "#of an iterable.\n",
    "\n",
    "\n",
    "'''The map() function in Python is used to apply a given function to each item in an iterable (such as a list, tuple, etc.) \n",
    "and returns a new iterable with the results.\n",
    "\n",
    "The basic syntax of the map() function is:\n",
    "map(function, iterable)\n",
    "\n",
    "function: The function to be applied to each element of the iterable.\n",
    "iterable: The iterable (e.g., list, tuple, etc.) whose elements will be passed as arguments to the function.\n",
    "The map() function returns an iterator, so you often need to convert it back to a list, tuple, or another data structure to view the results.\n",
    "\n",
    "Here's an example of how the map() function can be used:'''\n",
    "\n",
    "# Define a function to square a number\n",
    "def square(x):\n",
    "    return x ** 2\n",
    "\n",
    "# Create a list of numbers\n",
    "numbers = [1, 2, 3, 4, 5]\n",
    "\n",
    "# Use map() to apply the square function to each element of the list\n",
    "squared_numbers = map(square, numbers)\n",
    "\n",
    "# Convert the result to a list (if needed)\n",
    "squared_numbers = list(squared_numbers)\n",
    "\n",
    "print(squared_numbers)  # Output: [1, 4, 9, 16, 25]"
   ]
  },
  {
   "cell_type": "code",
   "execution_count": 2,
   "id": "d5d688e7-8841-420d-8c04-58251ff6af38",
   "metadata": {},
   "outputs": [
    {
     "name": "stdout",
     "output_type": "stream",
     "text": [
      "[1, 4, 9, 16, 25]\n"
     ]
    }
   ],
   "source": [
    "#2) Write a Python program that uses the `map()` function to square each element of a list of numbers.\n",
    "# Define a function to square a number\n",
    "def square(x):\n",
    "    return x ** 2\n",
    "\n",
    "# Create a list of numbers\n",
    "numbers = [1, 2, 3, 4, 5]\n",
    "\n",
    "# Use map() to apply the square function to each element of the list\n",
    "squared_numbers = map(square, numbers)\n",
    "\n",
    "# Convert the result to a list (if needed)\n",
    "squared_numbers = list(squared_numbers)\n",
    "\n",
    "print(squared_numbers)  # Output: [1, 4, 9, 16, 25]"
   ]
  },
  {
   "cell_type": "code",
   "execution_count": null,
   "id": "02d53919-82c6-4f91-922d-698db4ba0b1c",
   "metadata": {},
   "outputs": [],
   "source": [
    "#3)How does the `map()` function differ from a list comprehension in Python, and when would you choose one over the other?\n",
    "'''The map() function and list comprehensions in Python serve similar purposes: they both allow you to apply a function to each element of an iterable. However, they differ in syntax and usage patterns.\n",
    "\n",
    "Here are the main differences between the map() function and list comprehensions:\n",
    "\n",
    "Syntax:\n",
    "\n",
    "map() function: The map() function takes two arguments: the function to apply and the iterable. Its syntax is map(function, iterable).\n",
    "List comprehension: List comprehensions have a more compact syntax and allow you to construct lists by applying an expression to each \n",
    "item in an iterable. The syntax of a list comprehension is [expression for item in iterable].\n",
    "\n",
    "Readability:\n",
    "\n",
    "map() function: While the map() function is concise, it may be less readable than list comprehensions, especially for more complex \n",
    "operations or when using lambda functions.\n",
    "List comprehension: List comprehensions are generally considered more readable and Pythonic,\n",
    "especially for simple transformations of iterables.\n",
    "\n",
    "Functionality:\n",
    "\n",
    "map() function: The map() function applies a function to each element of an iterable.\n",
    "It is particularly useful when you already have a function defined and want to apply it to each item in an iterable.\n",
    "List comprehension: List comprehensions allow for more flexibility and can perform more complex operations than the map() function. \n",
    "They can incorporate conditionals (if statements) and nested loops, making them more versatile in certain situations.\n",
    "Performance:\n",
    "\n",
    "In terms of performance, both map() and list comprehensions are generally efficient and have similar performance characteristics. \n",
    "However, list comprehensions may perform slightly better in some cases due to their implementation in Python.\n",
    "When to choose one over the other depends on the specific context and personal preference:\n",
    "\n",
    "Use map() when:\n",
    "\n",
    "You have a predefined function that you want to apply to each element of an iterable.\n",
    "You prefer a functional programming style or need to use map() in combination with other functional programming\n",
    "constructs like filter() or reduce().\n",
    "Use list comprehensions when:\n",
    "\n",
    "You want to apply a simple expression or operation to each element of an iterable.\n",
    "You need more flexibility, such as incorporating conditionals or nested loops.\n",
    "You prioritize readability and a more Pythonic coding style.\n",
    "\n",
    "In many cases, both map() and list comprehensions can achieve the same result, so the choice between \n",
    "them often comes down to personal preference and the specific requirements of your code.'''\n"
   ]
  },
  {
   "cell_type": "code",
   "execution_count": 13,
   "id": "e2343cbd-c1d7-42f7-bc84-9d631f045358",
   "metadata": {},
   "outputs": [
    {
     "name": "stdout",
     "output_type": "stream",
     "text": [
      "['RAKESH', 'JAYESH', 'SURESH']\n"
     ]
    }
   ],
   "source": [
    "#4)Create a Python program that uses the `map()` function to convert a list of names to uppercase.\n",
    "def convertuppercase(name):\n",
    "    \n",
    "    return name.upper()\n",
    "    \n",
    "list_a = [\"rakesh\",\"jayesh\",\"suresh\"]\n",
    "\n",
    "uppercase_list = map(convertuppercase,list_a)\n",
    "\n",
    "list_of_names = list(uppercase_list)\n",
    "\n",
    "print(list_of_names)"
   ]
  },
  {
   "cell_type": "code",
   "execution_count": 3,
   "id": "1f8c330c-6856-483b-ad66-e0e4ec1b0eed",
   "metadata": {},
   "outputs": [
    {
     "name": "stdout",
     "output_type": "stream",
     "text": [
      "[5, 5, 4, 7]\n"
     ]
    }
   ],
   "source": [
    "#5)Write a Python program that uses the `map()` function to calculate the length of each word in a list of strings.\n",
    "def countchar(string):\n",
    "    return len(string)\n",
    "\n",
    "string_list = [\"Hello\",\"world\",\"Good\",\"morning\"]\n",
    "\n",
    "length_list = map(countchar,string_list)\n",
    "\n",
    "print(list(length_list))"
   ]
  },
  {
   "cell_type": "code",
   "execution_count": 4,
   "id": "01a43070-804c-4cf7-b2f7-45320666ad07",
   "metadata": {},
   "outputs": [
    {
     "name": "stdout",
     "output_type": "stream",
     "text": [
      "[5, 12, 21, 32]\n"
     ]
    }
   ],
   "source": [
    "#6) How can you use the `map()` function to apply a custom function to elements of multiple lists simultaneously in Python?\n",
    "\n",
    "'''To apply a custom function to elements of multiple lists simultaneously using the map() function in Python, \n",
    "you can pass multiple iterables to the map() function along with the custom function. Here's how you can do it'''\n",
    "\n",
    "def custom_function(x, y):\n",
    "    return x * y  \n",
    "\n",
    "# Define the lists\n",
    "list_a = [1, 2, 3, 4]\n",
    "list_b = [5, 6, 7, 8]\n",
    "\n",
    "\n",
    "result = map(custom_function, list_a, list_b)\n",
    "\n",
    "result_list = list(result)\n",
    "\n",
    "print(result_list) "
   ]
  },
  {
   "cell_type": "code",
   "execution_count": null,
   "id": "56bc5c82-f079-4457-8ed1-eb3df19d83ab",
   "metadata": {},
   "outputs": [
    {
     "name": "stdout",
     "output_type": "stream",
     "text": [
      "fahrenheit list [77.0, 96.8, 82.4, 104.0, 96.8, 53.6, 48.2]\n"
     ]
    }
   ],
   "source": [
    "#7)Create a Python program that uses `map()` to convert a list of temperatures from Celsius to Fahrenheit.\n",
    "def tempconverter(calsius):\n",
    "     return (9/5*calsius)+32\n",
    "\n",
    "celsius_list = [25,36,28,40,36,12,9]\n",
    "\n",
    "fahrenheit_list = map(tempconverter,celsius_list)\n",
    "\n",
    "print(\"fahrenheit list\",list(fahrenheit_list))"
   ]
  },
  {
   "cell_type": "code",
   "execution_count": 15,
   "id": "ec0e1d19-fdc4-4520-90fe-1a029af030e3",
   "metadata": {},
   "outputs": [
    {
     "name": "stdout",
     "output_type": "stream",
     "text": [
      "Nearest integers list [2, 6, 4, 6, 4, 5]\n"
     ]
    }
   ],
   "source": [
    "#8)Write a Python program that uses the `map()` function to round each element of a list of floating-point numbers to the nearest integer.\n",
    "\n",
    "def roundelement(floating_num):\n",
    "    return int(floating_num)\n",
    "\n",
    "floating_list = [2.4,6.8,4.8,6.4,4.9,5.1]\n",
    "\n",
    "integer_list = map(roundelement,floating_list)\n",
    "\n",
    "print(\"Nearest integers list\",list(integer_list))"
   ]
  },
  {
   "cell_type": "markdown",
   "id": "68d9de02-8849-413a-acd8-115e54697806",
   "metadata": {},
   "source": [
    "Reduce :-"
   ]
  },
  {
   "cell_type": "code",
   "execution_count": 16,
   "id": "995d5026-82d1-4de6-9e76-10350cd01688",
   "metadata": {},
   "outputs": [
    {
     "name": "stdout",
     "output_type": "stream",
     "text": [
      "15\n"
     ]
    }
   ],
   "source": [
    "#1)What is the `reduce()` function in Python, and what module should you import to use it? Provide an example of its basic usage.\n",
    "\n",
    "'''The reduce() function in Python is used to apply a function of two arguments cumulatively to the items of an iterable, \n",
    "from left to right, so as to reduce the iterable to a single value.\n",
    "\n",
    "To use the reduce() function in Python, you need to import it from the functools module. Here's how you can import and use it:'''\n",
    "\n",
    "from functools import reduce\n",
    "\n",
    "# Define a custom function to be applied cumulatively\n",
    "def add(x, y):\n",
    "    return x + y\n",
    "\n",
    "# Define a list of numbers\n",
    "numbers = [1, 2, 3, 4, 5]\n",
    "\n",
    "# Use reduce() to apply the add function cumulatively to the list of numbers\n",
    "result = reduce(add, numbers)\n",
    "\n",
    "print(result)"
   ]
  },
  {
   "cell_type": "code",
   "execution_count": 17,
   "id": "0eea4e03-34af-45a1-bef4-e4c784e2eb14",
   "metadata": {},
   "outputs": [
    {
     "name": "stdout",
     "output_type": "stream",
     "text": [
      "Product of all elements: 120\n"
     ]
    }
   ],
   "source": [
    "#2)Write a Python program that uses the `reduce()` function to find the product of all elements in a list.\n",
    "\n",
    "from functools import reduce\n",
    "\n",
    "# Define the list of numbers\n",
    "numbers = [1, 2, 3, 4, 5]\n",
    "\n",
    "# Define the custom function to multiply two numbers\n",
    "def multiply(x, y):\n",
    "    return x * y\n",
    "\n",
    "# Use reduce() to find the product of all elements in the list\n",
    "product = reduce(multiply, numbers)\n",
    "\n",
    "print(\"Product of all elements:\", product)"
   ]
  },
  {
   "cell_type": "code",
   "execution_count": 25,
   "id": "71a6fbf8-47b1-42fd-b9b4-12d33f54cba4",
   "metadata": {},
   "outputs": [
    {
     "name": "stdout",
     "output_type": "stream",
     "text": [
      "Maximum number in list : 9\n"
     ]
    }
   ],
   "source": [
    "#3)Create a Python program that uses `reduce()` to find the maximum element in a list of numbers.\n",
    "def findmax(num1,num2):\n",
    "    if num1<num2:\n",
    "        return num2\n",
    "    else:\n",
    "        return num1\n",
    "list_num = [1,2,3,4,5,6,7,8,9]\n",
    "max_num = reduce(findmax,list_num)\n",
    "print(\"Maximum number in list :\",max_num)"
   ]
  },
  {
   "cell_type": "code",
   "execution_count": 1,
   "id": "d8f3925e-e21f-426e-9cb2-9dbcba765d65",
   "metadata": {},
   "outputs": [
    {
     "name": "stdout",
     "output_type": "stream",
     "text": [
      "Concatenated string: helloworld!Thisisaconcatenationexample\n"
     ]
    }
   ],
   "source": [
    "#4)How can you use the `reduce()` function to concatenate a list of strings into a single string?\n",
    "from functools import reduce\n",
    "\n",
    "# Define the list of strings\n",
    "strings = [\"hello\", \"world\", \"!\", \"This\", \"is\", \"a\", \"concatenation\", \"example\"]\n",
    "\n",
    "# Define the custom function to concatenate two strings\n",
    "def concatenate_string(x, y):\n",
    "    return x + y\n",
    "\n",
    "# Use reduce() to concatenate all strings in the list into a single string\n",
    "concatenated_string = reduce(concatenate_string, strings)\n",
    "\n",
    "print(\"Concatenated string:\", concatenated_string)\n"
   ]
  },
  {
   "cell_type": "code",
   "execution_count": 5,
   "id": "545ea06a-29c4-414d-813a-154a788a2bb6",
   "metadata": {},
   "outputs": [
    {
     "name": "stdout",
     "output_type": "stream",
     "text": [
      "Factorial of 6 is: 720\n"
     ]
    }
   ],
   "source": [
    "#5)Write a Python program that calculates the factorial of a number using the `reduce()` function.\n",
    "from functools import reduce\n",
    "\n",
    "# Define the number for which factorial needs to be calculated\n",
    "number = 6\n",
    "\n",
    "# Define the custom function to calculate the factorial of a number\n",
    "def factorial(x, y):\n",
    "    return x * y\n",
    "\n",
    "# Create a list of numbers from 1 to the given number\n",
    "numbers = list(range(1, number + 1))\n",
    "\n",
    "# Use reduce() to calculate the factorial of the number\n",
    "factorial_result = reduce(factorial, numbers)\n",
    "\n",
    "print(\"Factorial of\", number, \"is:\", factorial_result)"
   ]
  },
  {
   "cell_type": "code",
   "execution_count": 9,
   "id": "84cc69e0-35a7-45c0-94ef-b05517a42e19",
   "metadata": {},
   "outputs": [
    {
     "name": "stdout",
     "output_type": "stream",
     "text": [
      "GCD of the numbers: 12\n"
     ]
    }
   ],
   "source": [
    "#6)Create a Python program that uses `reduce()` to find the GCD (Greatest Common Divisor) of a list of numbers.\n",
    "from functools import reduce\n",
    "import math\n",
    "\n",
    "numbers = [36, 48, 60, 96]\n",
    "\n",
    "def gcd(x, y):\n",
    "    return math.gcd(x, y)\n",
    "\n",
    "gcd_result = reduce(gcd, numbers)\n",
    "\n",
    "print(\"GCD of the numbers:\", gcd_result)"
   ]
  },
  {
   "cell_type": "code",
   "execution_count": 2,
   "id": "72afb4cd-6778-4269-b2ad-3759f656ddb6",
   "metadata": {},
   "outputs": [
    {
     "name": "stdout",
     "output_type": "stream",
     "text": [
      "Sum of Digits of given number : 15\n"
     ]
    }
   ],
   "source": [
    "#7)Write a Python program that uses the `reduce()` function to find the sum of the digits of a given number.\n",
    "from functools import reduce\n",
    "\n",
    "def findsum(x,y):\n",
    "    return x+y\n",
    "number = 12345\n",
    "\n",
    "list_num = list(map(int,str(number)))\n",
    "\n",
    "sum_of_num = reduce(findsum,list_num)\n",
    "\n",
    "print(\"Sum of Digits of given number :\",sum_of_num)"
   ]
  },
  {
   "cell_type": "code",
   "execution_count": null,
   "id": "676a9252-e331-4786-9a36-e0bb945ac345",
   "metadata": {},
   "outputs": [],
   "source": [
    "'''\n",
    "How can you use the `filter()` function to remove None values from a list in Python?\n",
    "Create a Python program that uses `filter()` to select words longer than a certain length from a list of strings.\n"
   ]
  },
  {
   "cell_type": "markdown",
   "id": "b1a589a3-9e95-40a8-ba96-c4afb2a80eac",
   "metadata": {},
   "source": [
    "Filter:\n",
    "    "
   ]
  },
  {
   "cell_type": "code",
   "execution_count": 3,
   "id": "8252eef8-9e4a-434b-89f4-dabb49489d3b",
   "metadata": {},
   "outputs": [
    {
     "name": "stdout",
     "output_type": "stream",
     "text": [
      "Filtered Numbers : [2, 4, 6, 8]\n"
     ]
    }
   ],
   "source": [
    "#1)Explain the purpose of the `filter()` function in Python and provide an example of how it can be used to filter elements from an iterable.\n",
    "\n",
    "'''The filter() function in Python is used to filter elements from an iterable (such as a list, tuple, or dictionary) based on a \n",
    "specified condition. It takes two arguments: a function that defines the filtering condition and an iterable.\n",
    "The function is applied to each element of the iterable, and only those elements for which the function returns True are\n",
    "included in the result.'''\n",
    "\n",
    "def isEven(num):\n",
    "    return num%2==0\n",
    "list_num = [1,2,3,4,5,6,7,8,9]\n",
    "\n",
    "filtered_num = list(filter(isEven,list_num))\n",
    "print(\"Filtered Numbers :\",filtered_num)"
   ]
  },
  {
   "cell_type": "code",
   "execution_count": 4,
   "id": "aa8eeed8-9ca5-4dd1-a9e3-d642ee54a24b",
   "metadata": {},
   "outputs": [
    {
     "name": "stdout",
     "output_type": "stream",
     "text": [
      "Filtered Numbers : [2, 4, 6, 8]\n"
     ]
    }
   ],
   "source": [
    "#2)'Write a Python program that uses the `filter()` function to select even numbers from a list of integers.\n",
    "def isEven(num):\n",
    "    return num%2==0\n",
    "list_num = [1,2,3,4,5,6,7,8,9]\n",
    "\n",
    "filtered_num = list(filter(isEven,list_num))\n",
    "print(\"Filtered Numbers :\",filtered_num)"
   ]
  },
  {
   "cell_type": "code",
   "execution_count": 18,
   "id": "e820aebc-dabe-4b99-8e7f-c2d1376c1b04",
   "metadata": {},
   "outputs": [
    {
     "name": "stdout",
     "output_type": "stream",
     "text": [
      "Names starting with the letter C: ['Charlie']\n"
     ]
    }
   ],
   "source": [
    "#3)Create a Python program that uses the `filter()` function to select names that start with a specific letter from a list of strings.\n",
    "def starts_with_letter(name, letter):\n",
    "    return name.startswith(letter)\n",
    "\n",
    "def filter_names_by_letter(names, letter):\n",
    "    return filter(lambda x: starts_with_letter(x, letter), names)\n",
    "\n",
    "# List of names\n",
    "list_names = [\"Alice\", \"Bob\", \"Charlie\", \"David\", \"Eva\", \"Frank\"]\n",
    "\n",
    "# Specific letter to filter by\n",
    "specific_letter = \"C\"\n",
    "\n",
    "# Use filter_names_by_letter() to select names that start with the specific letter\n",
    "filtered_names = list(filter_names_by_letter(list_names, specific_letter))\n",
    "\n",
    "# Print the filtered names\n",
    "print(\"Names starting with the letter\", specific_letter + \":\", filtered_names)"
   ]
  },
  {
   "cell_type": "code",
   "execution_count": 1,
   "id": "bbe5899f-5f7c-4e4d-8945-44c0b7c5df56",
   "metadata": {},
   "outputs": [
    {
     "name": "stdout",
     "output_type": "stream",
     "text": [
      "Prime numbers: [2, 3, 5, 7, 11, 13]\n"
     ]
    }
   ],
   "source": [
    "#4)Write a Python program that uses the `filter()` function to select prime numbers from a list of integers.\n",
    "def is_prime(n):\n",
    "    if n <= 1:\n",
    "        return False\n",
    "    if n <= 3:\n",
    "        return True\n",
    "    if n % 2 == 0 or n % 3 == 0:\n",
    "        return False\n",
    "    i = 5\n",
    "    while i * i <= n:\n",
    "        if n % i == 0 or n % (i + 2) == 0:\n",
    "            return False\n",
    "        i += 6\n",
    "    return True\n",
    "\n",
    "# List of integers\n",
    "numbers = [2, 3, 4, 5, 6, 7, 8, 9, 10, 11, 12, 13, 14, 15]\n",
    "\n",
    "# Use filter() to select prime numbers from the list\n",
    "prime_numbers = list(filter(is_prime, numbers))\n",
    "\n",
    "# Print the prime numbers\n",
    "print(\"Prime numbers:\", prime_numbers)"
   ]
  },
  {
   "cell_type": "code",
   "execution_count": 2,
   "id": "843e3034-fc61-40f6-8d10-cd2c5931b1ca",
   "metadata": {},
   "outputs": [
    {
     "name": "stdout",
     "output_type": "stream",
     "text": [
      "List after removing None values: [1, 3, 5, 7, 9]\n"
     ]
    }
   ],
   "source": [
    "#5)How can you use the `filter()` function to remove None values from a list in Python?\n",
    "# List with None values\n",
    "values = [1, None, 3, None, 5, None, 7, None, 9, None]\n",
    "\n",
    "# Use filter() to remove None values from the list\n",
    "filtered_values = list(filter(lambda x: x is not None, values))\n",
    "\n",
    "# Print the filtered values\n",
    "print(\"List after removing None values:\", filtered_values)"
   ]
  },
  {
   "cell_type": "code",
   "execution_count": 5,
   "id": "b60ebbaa-ce72-4dfc-bc4d-eddb6b4f4d4f",
   "metadata": {},
   "outputs": [
    {
     "name": "stdout",
     "output_type": "stream",
     "text": [
      "['Pineapple']\n"
     ]
    }
   ],
   "source": [
    "#6)Create a Python program that uses `filter()` to select words longer than a certain length from a list of strings.\n",
    "def check_length(string, length):\n",
    "    return len(string) > length\n",
    "\n",
    "List_of_strings = [\"Apple\", \"Banana\", \"Pineapple\", \"Orange\"]\n",
    "minimum_length = 6\n",
    "\n",
    "filtered_strings = list(filter(lambda x: check_length(x, minimum_length), List_of_strings))\n",
    "print(filtered_strings)"
   ]
  },
  {
   "cell_type": "code",
   "execution_count": 3,
   "id": "9b197ae4-302c-477c-9203-a9112c269c86",
   "metadata": {},
   "outputs": [
    {
     "name": "stdout",
     "output_type": "stream",
     "text": [
      "[50, 60, 70]\n"
     ]
    }
   ],
   "source": [
    "#7)Write a Python program that uses the `filter()` function to select elements greater than a specified threshold from a list of values.\n",
    "def greater_threshold(Value,threshold):\n",
    "    return Value>threshold\n",
    "\n",
    "List_Values = [10,20,30,40,50,60,70]\n",
    "\n",
    "threshold_ = 40\n",
    "\n",
    "List_threshold = list(filter(lambda x :greater_threshold(x,threshold_),List_Values))\n",
    "print(List_threshold)"
   ]
  },
  {
   "cell_type": "markdown",
   "id": "8d0385c7-0232-4ebe-bdc7-fa41b81dfb07",
   "metadata": {},
   "source": [
    "Recursion\n"
   ]
  },
  {
   "cell_type": "code",
   "execution_count": 6,
   "id": "068de9fc-1d41-4dc8-a297-0d1e5c4154c7",
   "metadata": {},
   "outputs": [
    {
     "name": "stdout",
     "output_type": "stream",
     "text": [
      "120\n"
     ]
    }
   ],
   "source": [
    "#1)Explain the concept of recursion in Python. How does it differ from iteration?\n",
    "'''Recursion is a programming technique where a function calls itself in order to solve a problem. \n",
    "In a recursive function, the function definition includes a call to the function itself. Each time the function is called, \n",
    "it solves a smaller instance of the same problem until it reaches a base case, which is a simple case that can be solved \n",
    "directly without further recursion. Recursion often leads to concise and elegant solutions for problems that can be divided \n",
    "into smaller subproblems.\n",
    "\n",
    "Here's an example of a recursive function to calculate the factorial of a number:'''\n",
    "\n",
    "def factorial(n):\n",
    "    if n == 0:\n",
    "        return 1\n",
    "    else:\n",
    "        return n * factorial(n - 1)\n",
    "n = 5\n",
    "print(factorial(n))"
   ]
  },
  {
   "cell_type": "code",
   "execution_count": 8,
   "id": "b908787f-f3f3-479e-991a-8186b021c636",
   "metadata": {},
   "outputs": [
    {
     "name": "stdout",
     "output_type": "stream",
     "text": [
      "120\n"
     ]
    }
   ],
   "source": [
    "#2)Write a Python program to calculate the factorial of a number using recursion.\n",
    "def factorial(n):\n",
    "    if n == 0:\n",
    "        return 1\n",
    "    else:\n",
    "        return n * factorial(n - 1)\n",
    "n = 5\n",
    "print(factorial(n))"
   ]
  },
  {
   "cell_type": "code",
   "execution_count": 9,
   "id": "040b86ac-9773-4335-8475-b090d330daee",
   "metadata": {},
   "outputs": [
    {
     "name": "stdout",
     "output_type": "stream",
     "text": [
      "The 10 th Fibonacci number is: 55\n"
     ]
    }
   ],
   "source": [
    "#3)Create a recursive Python function to find the nth Fibonacci number.\n",
    "def fibonacci(n):\n",
    "    if n <= 1:\n",
    "        return n\n",
    "    else:\n",
    "        return fibonacci(n - 1) + fibonacci(n - 2)\n",
    "\n",
    "# Test the function\n",
    "n = 10\n",
    "print(\"The\", n, \"th Fibonacci number is:\", fibonacci(n))"
   ]
  },
  {
   "cell_type": "code",
   "execution_count": 1,
   "id": "e18c92a4-ed4b-40f7-b17a-ddb1406a1135",
   "metadata": {},
   "outputs": [
    {
     "name": "stdout",
     "output_type": "stream",
     "text": [
      "Sum of all elements in the list: 15\n"
     ]
    }
   ],
   "source": [
    "#4)Write a recursive Python function to calculate the sum of all elements in a list.\n",
    "def sum_of_list(arr):\n",
    "    # Base case: If the list is empty, return 0\n",
    "    if len(arr) == 0:\n",
    "        return 0\n",
    "    # Recursive case: Add the first element to the sum of the rest of the list\n",
    "    else:\n",
    "        return arr[0] + sum_of_list(arr[1:])\n",
    "\n",
    "# Example usage:\n",
    "my_list = [1, 2, 3, 4, 5]\n",
    "print(\"Sum of all elements in the list:\", sum_of_list(my_list))\n",
    "    "
   ]
  },
  {
   "cell_type": "code",
   "execution_count": null,
   "id": "b05f7d22-738f-41c5-a6b3-6e372041929a",
   "metadata": {},
   "outputs": [],
   "source": [
    "#5)How can you prevent a recursive function from running indefinitely, causing a stack overflow error?\n",
    "\n",
    "'''Preventing a recursive function from running indefinitely and causing a stack overflow error involves implementing \n",
    "proper termination conditions or limiting the depth of recursion. Here are a few strategies to achieve this:\n",
    "\n",
    "1. **Base Case**: Ensure that your recursive function has a base case that defines when the recursion should stop. \n",
    "This base case should be reached after a finite number of recursive calls. \n",
    "Without a base case, the recursion will continue indefinitely.\n",
    "\n",
    "2. **Input Validation**: Validate the input parameters of your recursive function to ensure they are within acceptable \n",
    "bounds. If the input is invalid or exceeds certain limits, you can return an error or handle it appropriately instead \n",
    "of continuing with the recursion.\n",
    "\n",
    "3. **Limiting Recursion Depth**: Implement a mechanism to limit the depth of recursion. You can use a counter variable \n",
    "or a parameter to track the depth of recursion, and when it reaches a predefined limit, terminate the recursion. \n",
    "This prevents the function from going too deep into the call stack.\n",
    "\n",
    "4. **Tail Recursion Optimization**: In languages that support tail call optimization (TCO), consider optimizing your \n",
    "recursive functions to use tail recursion. Tail call optimization allows the compiler to optimize tail-recursive \n",
    "functions so that they don't consume additional stack space for each recursive call. This helps prevent stack overflow \n",
    "errors for deep recursions.\n",
    "\n",
    "5. **Iterative Alternatives**: In some cases, you can refactor a recursive function into an iterative solution. \n",
    "Iterative solutions often consume less stack space compared to recursive ones and can be more efficient for large inputs.\n",
    "\n",
    "By incorporating these strategies, you can ensure that your recursive functions terminate gracefully without causing \n",
    "stack overflow errors.'''\n",
    "\n"
   ]
  },
  {
   "cell_type": "code",
   "execution_count": 2,
   "id": "5e6f70e4-da5f-46c9-a9d0-cc4c8db1e619",
   "metadata": {},
   "outputs": [
    {
     "name": "stdout",
     "output_type": "stream",
     "text": [
      "GCD of 48 and 18 is: 6\n"
     ]
    }
   ],
   "source": [
    "#6)Create a recursive Python function to find the greatest common divisor (GCD) of two numbers using the Euclidean \n",
    "#algorithm.\n",
    "def gcd(a, b):\n",
    "    # Base case: If b is 0, return a\n",
    "    if b == 0:\n",
    "        return a\n",
    "    # Recursive case: Call gcd recursively with b and the remainder of a divided by b\n",
    "    else:\n",
    "        return gcd(b, a % b)\n",
    "\n",
    "# Example usage:\n",
    "num1 = 48\n",
    "num2 = 18\n",
    "print(\"GCD of\", num1, \"and\", num2, \"is:\", gcd(num1, num2))"
   ]
  },
  {
   "cell_type": "code",
   "execution_count": 3,
   "id": "bdf3718a-13a0-4042-8e0e-1e0006feda7b",
   "metadata": {},
   "outputs": [
    {
     "name": "stdout",
     "output_type": "stream",
     "text": [
      "Original string: Hello, World!\n",
      "Reversed string: !dlroW ,olleH\n"
     ]
    }
   ],
   "source": [
    "#7)Write a recursive Python function to reverse a string.\n",
    "def reverse_string(s):\n",
    "    # Base case: If the string is empty or has only one character, return the string itself\n",
    "    if len(s) <= 1:\n",
    "        return s\n",
    "    # Recursive case: Concatenate the last character of the string with the reversed substring\n",
    "    else:\n",
    "        return s[-1] + reverse_string(s[:-1])\n",
    "\n",
    "# Example usage:\n",
    "original_string = \"Hello, World!\"\n",
    "reversed_string = reverse_string(original_string)\n",
    "print(\"Original string:\", original_string)\n",
    "print(\"Reversed string:\", reversed_string)"
   ]
  },
  {
   "cell_type": "code",
   "execution_count": 4,
   "id": "7d8ea9af-46df-40c7-a218-7d2ef20e4f6c",
   "metadata": {},
   "outputs": [
    {
     "name": "stdout",
     "output_type": "stream",
     "text": [
      "Result of 3 raised to the power of 4 is: 81\n"
     ]
    }
   ],
   "source": [
    "#8)Create a recursive Python function to calculate the power of a number (x^n).\n",
    "\n",
    "def power(x, n):\n",
    "    # Base case: If n is 0, return 1 (x^0 = 1 for any non-zero x)\n",
    "    if n == 0:\n",
    "        return 1\n",
    "    # Recursive case: Calculate x^(n/2) recursively and use it to calculate x^n\n",
    "    else:\n",
    "        partial_power = power(x, n // 2)\n",
    "        if n % 2 == 0:\n",
    "            return partial_power * partial_power\n",
    "        else:\n",
    "            return x * partial_power * partial_power\n",
    "\n",
    "# Example usage:\n",
    "base = 3\n",
    "exponent = 4\n",
    "result = power(base, exponent)\n",
    "print(\"Result of\", base, \"raised to the power of\", exponent, \"is:\", result)"
   ]
  },
  {
   "cell_type": "code",
   "execution_count": 5,
   "id": "aa4d09e0-acd8-4414-ad55-8d0bc3683988",
   "metadata": {},
   "outputs": [
    {
     "name": "stdout",
     "output_type": "stream",
     "text": [
      "All permutations of abc are:\n",
      "['abc', 'bac', 'bca', 'acb', 'cab', 'cba']\n"
     ]
    }
   ],
   "source": [
    "#9) Write a recursive Python function to find all permutations of a given string.\n",
    "def permutations(string):\n",
    "    # Base case: If the string has only one character, return it as the only permutation\n",
    "    if len(string) == 1:\n",
    "        return [string]\n",
    "    \n",
    "    # Recursive case: Generate permutations by inserting the first character at all possible positions\n",
    "    first_char = string[0]\n",
    "    remaining_chars = string[1:]\n",
    "    permutations_of_remaining = permutations(remaining_chars)\n",
    "    result = []\n",
    "    for perm in permutations_of_remaining:\n",
    "        for i in range(len(perm) + 1):\n",
    "            result.append(perm[:i] + first_char + perm[i:])\n",
    "    return result\n",
    "\n",
    "# Example usage:\n",
    "input_string = \"abc\"\n",
    "print(\"All permutations of\", input_string, \"are:\")\n",
    "print(permutations(input_string))"
   ]
  },
  {
   "cell_type": "code",
   "execution_count": 1,
   "id": "792d098f-f9fa-4a8d-8bf0-ba96c5927521",
   "metadata": {},
   "outputs": [
    {
     "name": "stdout",
     "output_type": "stream",
     "text": [
      "Is 'radar' a palindrome? True\n",
      "Is 'hello' a palindrome? False\n",
      "Is 'madam' a palindrome? True\n"
     ]
    }
   ],
   "source": [
    "#10)Write a recursive Python function to check if a string is a palindrome.\n",
    "def is_palindrome(s):\n",
    "    # Base case: if the string is empty or has one character, it's a palindrome\n",
    "    if len(s) <= 1:\n",
    "        return True\n",
    "    # Check if the first and last characters are the same\n",
    "    if s[0] != s[-1]:\n",
    "        return False\n",
    "    # Recursive case: check the substring without the first and last characters\n",
    "    return is_palindrome(s[1:-1])\n",
    "\n",
    "# Test the function\n",
    "test_string = \"radar\"\n",
    "print(f\"Is '{test_string}' a palindrome? {is_palindrome(test_string)}\")\n",
    "\n",
    "test_string = \"hello\"\n",
    "print(f\"Is '{test_string}' a palindrome? {is_palindrome(test_string)}\")\n",
    "\n",
    "test_string = \"madam\"\n",
    "print(f\"Is '{test_string}' a palindrome? {is_palindrome(test_string)}\")"
   ]
  },
  {
   "cell_type": "code",
   "execution_count": 2,
   "id": "473a1a7f-7493-410d-9ab5-6de876cf0e44",
   "metadata": {},
   "outputs": [
    {
     "name": "stdout",
     "output_type": "stream",
     "text": [
      "[[1, 2, 3], [1, 2], [1, 3], [1], [2, 3], [2], [3], []]\n"
     ]
    }
   ],
   "source": [
    "#11)Create a recursive Python function to generate all possible combinations of a list of elements.\n",
    "\n",
    "def generate_combinations(lst):\n",
    "    # Base case: if the list is empty, return a list containing an empty list\n",
    "    if len(lst) == 0:\n",
    "        return [[]]\n",
    "\n",
    "    # Recursive case: generate combinations without the first element\n",
    "    without_first = generate_combinations(lst[1:])\n",
    "    \n",
    "    # Generate combinations with the first element\n",
    "    with_first = [[lst[0]] + combo for combo in without_first]\n",
    "    \n",
    "    # Return the combination of both\n",
    "    return with_first + without_first\n",
    "\n",
    "# Test the function\n",
    "test_list = [1, 2, 3]\n",
    "combinations = generate_combinations(test_list)\n",
    "print(combinations)"
   ]
  },
  {
   "cell_type": "markdown",
   "id": "34393214-1d4e-4d4a-8d03-feb67cec0a44",
   "metadata": {},
   "source": [
    "Basics of Functions:"
   ]
  },
  {
   "cell_type": "code",
   "execution_count": 3,
   "id": "88735830-5b96-43cc-b67b-1e08a2f26aeb",
   "metadata": {},
   "outputs": [
    {
     "ename": "SyntaxError",
     "evalue": "unterminated triple-quoted string literal (detected at line 69) (2086966798.py, line 66)",
     "output_type": "error",
     "traceback": [
      "\u001b[0;36m  Cell \u001b[0;32mIn[3], line 66\u001b[0;36m\u001b[0m\n\u001b[0;31m    ''' **Built-in Functions**: Python provides many built-in functions, such as `print()`, `len()`, `range()`, etc.\u001b[0m\n\u001b[0m    ^\u001b[0m\n\u001b[0;31mSyntaxError\u001b[0m\u001b[0;31m:\u001b[0m unterminated triple-quoted string literal (detected at line 69)\n"
     ]
    }
   ],
   "source": [
    "#1) What is a function in Python, and why is it used?\n",
    "### What is a Function in Python?\n",
    "\n",
    "#A function in Python is a block of organized, reusable code that is used to perform a single, related action. Functions provide better\n",
    "#modularity for your application and a high degree of code reusability. Python gives you many built-in functions like `print()`, \n",
    "#`len()`, but you can also create your own functions, which are called user-defined functions.\n",
    "\n",
    "\n",
    "def function_name(parameters):\n",
    "    \"\"\"docstring\"\"\"\n",
    "    # function body\n",
    "    return value\n",
    "\n",
    "def greet(name):\n",
    "    \"\"\"This function greets a person with their name.\"\"\"\n",
    "    return f\"Hello, {name}!\"\n",
    "\n",
    "# Call the function\n",
    "print(greet(\"Alice\"))\n",
    "```\n",
    "\n",
    "'''Why Use Functions?\n",
    "\n",
    "#1. **Code Reusability**: Once a function is defined, it can be reused in different parts of the program without rewriting the same code.\n",
    "\n",
    "#2. **Modularity**: Functions allow you to divide your code into smaller, manageable sections or modules, making it easier to understand and \n",
    "maintain.\n",
    "\n",
    "3. **Avoid Repetition**: Functions help to avoid repetition of code. Instead of writing the same code multiple times, \n",
    "you can write it once inside a function and call it whenever needed.\n",
    "\n",
    "4. **Improved Readability**: By using descriptive function names and proper documentation, \n",
    "functions can make the code more readable and easier to follow.\n",
    "\n",
    "5. **Testing and Debugging**: Functions make it easier to test and debug individual pieces of the code. \n",
    "You can test each function independently to ensure it works correctly.\n",
    "\n",
    "6. **Encapsulation**: Functions help to encapsulate logic. They allow you to group together a set of statements that perform \n",
    "a specific task and can hide the implementation details from the rest of the code.'''\n",
    "\n",
    "### Example of a User-Defined Function\n",
    "\n",
    "#Here is a more complex example to illustrate how functions work:\n",
    "\n",
    "\n",
    "def factorial(n):\n",
    "    \"\"\"This function returns the factorial of a given number n.\"\"\"\n",
    "    if n == 0:\n",
    "        return 1\n",
    "    else:\n",
    "        return n * factorial(n - 1)\n",
    "\n",
    "# Call the function\n",
    "print(factorial(5))  # Output: 120\n",
    "```\n",
    "\n",
    "'''In this example:\n",
    "- The `factorial` function calculates the factorial of a given number `n`.\n",
    "- If `n` is 0, it returns 1 (the base case for recursion).\n",
    "- Otherwise, it calls itself with `n - 1` and multiplies the result by `n`.'''\n",
    "\n",
    "#This recursive approach is a clear and concise way to calculate the factorial, demonstrating how functions can simplify complex operations.\n",
    "\n",
    "### Built-in Functions vs. User-Defined Functions\n",
    "\n",
    "''' **Built-in Functions**: Python provides many built-in functions, such as `print()`, `len()`, `range()`, etc.\n",
    "- **User-Defined Functions**: You can define your own functions to perform specific tasks.\n",
    "\n",
    "Using functions effectively allows for cleaner, more efficient, and maintainable code."
   ]
  },
  {
   "cell_type": "code",
   "execution_count": 4,
   "id": "3545e09d-4dca-42d9-b863-28b5a7c49ab5",
   "metadata": {},
   "outputs": [
    {
     "name": "stdout",
     "output_type": "stream",
     "text": [
      "The sum of 5 and 3 is: 8\n",
      "4 is even.\n"
     ]
    }
   ],
   "source": [
    "#2)How do you define a function in Python? Provide an example.\n",
    "# Defining a function in Python involves using the `def` keyword, followed by the function name, parentheses for parameters, and a colon to indicate the start of the function body. \n",
    "# The function body is indented, and it can contain statements, including a return statement to return a value.\n",
    "\n",
    "# Syntax\n",
    "\n",
    "# def function_name(parameters):\n",
    "#     \"\"\"docstring\"\"\"\n",
    "#     # function body\n",
    "#     return value\n",
    "\n",
    "# Example\n",
    "\n",
    "# Let's define a simple function that takes two numbers as parameters and returns their sum:\n",
    "\n",
    "def add_numbers(a, b):\n",
    "    \"\"\"\n",
    "    This function takes two numbers and returns their sum.\n",
    "    \"\"\"\n",
    "    result = a + b\n",
    "    return result\n",
    "\n",
    "# Call the function and print the result\n",
    "sum_result = add_numbers(5, 3)\n",
    "print(f\"The sum of 5 and 3 is: {sum_result}\")\n",
    "\n",
    "# Explanation\n",
    "\n",
    "# 1. Function Definition:\n",
    "#    - `def add_numbers(a, b):` defines a function named `add_numbers` that takes two parameters, `a` and `b`.\n",
    "#    - `\"\"\"This function takes two numbers and returns their sum.\"\"\"` is a docstring that describes the function. It's optional but recommended for better code documentation.\n",
    "#    - `result = a + b` calculates the sum of the two parameters and stores it in the variable `result`.\n",
    "#    - `return result` returns the calculated sum to the caller.\n",
    "\n",
    "# 2. Function Call:\n",
    "#    - `sum_result = add_numbers(5, 3)` calls the `add_numbers` function with the arguments `5` and `3`, and stores the result in the variable `sum_result`.\n",
    "#    - `print(f\"The sum of 5 and 3 is: {sum_result}\")` prints the result.\n",
    "\n",
    "# Output\n",
    "\n",
    "# When you run the code, it will output:\n",
    "# The sum of 5 and 3 is: 8\n",
    "\n",
    "# Another Example\n",
    "\n",
    "# Here's another example of a function that checks if a number is even:\n",
    "\n",
    "def is_even(number):\n",
    "    \"\"\"\n",
    "    This function checks if a number is even.\n",
    "    \"\"\"\n",
    "    if number % 2 == 0:\n",
    "        return True\n",
    "    else:\n",
    "        return False\n",
    "\n",
    "# Test the function\n",
    "num = 4\n",
    "if is_even(num):\n",
    "    print(f\"{num} is even.\")\n",
    "else:\n",
    "    print(f\"{num} is odd.\")\n",
    "\n",
    "# Explanation\n",
    "\n",
    "# 1. Function Definition:\n",
    "#    - `def is_even(number):` defines a function named `is_even` that takes one parameter, `number`.\n",
    "#    - The docstring `\"\"\"This function checks if a number is even.\"\"\"` describes the function.\n",
    "#    - The function uses an `if` statement to check if the number is even by calculating `number % 2 == 0`.\n",
    "#    - It returns `True` if the number is even, otherwise, it returns `False`.\n",
    "\n",
    "# 2. Function Call:\n",
    "#    - `is_even(num)` calls the `is_even` function with the argument `num`.\n",
    "#    - The result is used in an `if` statement to print whether the number is even or odd.\n",
    "\n",
    "# Output\n",
    "\n",
    "# When you run the code, it will output:\n",
    "# 4 is even.\n",
    "\n",
    "# These examples demonstrate how to define and use functions in Python effectively.\n"
   ]
  },
  {
   "cell_type": "code",
   "execution_count": 5,
   "id": "ac768e0e-ae4d-4178-8003-fa80bccfabb2",
   "metadata": {},
   "outputs": [
    {
     "name": "stdout",
     "output_type": "stream",
     "text": [
      "Hello, Alice!\n",
      "The sum of 5 and 3 is: 8\n"
     ]
    }
   ],
   "source": [
    "#3)Explain the difference between a function definition and a function call.\n",
    "# Function Definition\n",
    "\n",
    "# A function definition is where you specify the name of the function, \n",
    "# the parameters it takes, and the code block it will execute when called. \n",
    "# This is essentially where you declare what the function does.\n",
    "\n",
    "# Syntax\n",
    "# def function_name(parameters):\n",
    "#     \"\"\"docstring\"\"\"\n",
    "#     # function body\n",
    "#     return value\n",
    "\n",
    "# Example\n",
    "def greet(name):\n",
    "    \"\"\"\n",
    "    This function greets a person with their name.\n",
    "    \"\"\"\n",
    "    return f\"Hello, {name}!\"\n",
    "\n",
    "# Explanation\n",
    "# - `def greet(name):` This line defines a function named `greet` that takes one parameter `name`.\n",
    "# - Docstring: The docstring (optional but recommended) describes what the function does.\n",
    "# - Function Body: The indented lines following the definition constitute the body of the function. \n",
    "#   This is the code that will run when the function is called.\n",
    "# - `return` Statement: This specifies the value that the function returns to the caller. \n",
    "#   In this case, it returns a greeting message.\n",
    "\n",
    "# Function Call\n",
    "\n",
    "# A function call is where you execute the function that you have defined. \n",
    "# This involves using the function name followed by parentheses, containing any arguments required by the function.\n",
    "\n",
    "# Syntax\n",
    "# function_name(arguments)\n",
    "\n",
    "# Example\n",
    "# Call the function with the argument \"Alice\"\n",
    "print(greet(\"Alice\"))\n",
    "\n",
    "# Explanation\n",
    "# - `greet(\"Alice\")`: This calls the `greet` function with the argument `\"Alice\"`. \n",
    "# - The function execution process:\n",
    "#   1. The control is transferred to the `greet` function.\n",
    "#   2. The parameter `name` gets the value `\"Alice\"`.\n",
    "#   3. The function body executes, generating the string `Hello, Alice!`.\n",
    "#   4. The `return` statement sends the generated string back to the place where the function was called.\n",
    "# - `print(greet(\"Alice\"))`: The `print` function then outputs the returned value, `Hello, Alice!`.\n",
    "\n",
    "# Key Differences\n",
    "\n",
    "# 1. Purpose:\n",
    "#    - Function Definition: Specifies what the function does.\n",
    "#    - Function Call: Executes the function and performs the specified action.\n",
    "\n",
    "# 2. Syntax:\n",
    "#    - Function Definition: Uses the `def` keyword, function name, parameters, and a colon, followed by an indented block of code.\n",
    "#    - Function Call: Uses the function name followed by parentheses, containing any necessary arguments.\n",
    "\n",
    "# 3. Execution:\n",
    "#    - Function Definition: No code inside the function is executed when defining it; you are just telling Python what to do when the function is called.\n",
    "#    - Function Call: Executes the code within the function's body.\n",
    "\n",
    "# Example Combining Both\n",
    "\n",
    "def add_numbers(a, b):\n",
    "    \"\"\"\n",
    "    This function takes two numbers and returns their sum.\n",
    "    \"\"\"\n",
    "    return a + b\n",
    "\n",
    "# Function Call\n",
    "sum_result = add_numbers(5, 3)\n",
    "print(f\"The sum of 5 and 3 is: {sum_result}\")\n",
    "\n",
    "# Explanation of Combined Example\n",
    "\n",
    "# 1. Function Definition: \n",
    "#    - `def add_numbers(a, b):` defines a function named `add_numbers` that takes two parameters.\n",
    "#    - The function returns the sum of `a` and `b`.\n",
    "\n",
    "# 2. Function Call:\n",
    "#    - `add_numbers(5, 3)` calls the `add_numbers` function with arguments `5` and `3`.\n",
    "#    - The function returns `8`, which is stored in `sum_result`.\n",
    "#    - `print(f\"The sum of 5 and 3 is: {sum_result}\")` prints the result.\n",
    "\n",
    "# By understanding these differences, you can better structure your code, making it modular, reusable, and easier to debug."
   ]
  },
  {
   "cell_type": "code",
   "execution_count": 6,
   "id": "4373b708-a6ef-4f00-8a79-72dea24d6bcf",
   "metadata": {},
   "outputs": [
    {
     "name": "stdout",
     "output_type": "stream",
     "text": [
      "The sum of 10 and 5 is: 15\n"
     ]
    }
   ],
   "source": [
    "#4) Write a Python program that defines a function to calculate the sum of two numbers and then calls the function\n",
    "# This Python program defines a function to calculate the sum of two numbers \n",
    "# and then calls the function.\n",
    "\n",
    "# Define the function\n",
    "def add_numbers(a, b):\n",
    "    \"\"\"\n",
    "    This function takes two numbers and returns their sum.\n",
    "    \"\"\"\n",
    "    return a + b\n",
    "\n",
    "# Explanation:\n",
    "# - `def add_numbers(a, b):` This line defines a function named `add_numbers` that takes two parameters, `a` and `b`.\n",
    "# - The docstring `\"\"\"This function takes two numbers and returns their sum.\"\"\"` describes what the function does.\n",
    "# - The function body `return a + b` calculates the sum of `a` and `b` and returns it.\n",
    "\n",
    "# Call the function\n",
    "result = add_numbers(10, 5)\n",
    "\n",
    "# Explanation:\n",
    "# - `add_numbers(10, 5)` calls the `add_numbers` function with the arguments `10` and `5`.\n",
    "# - The function calculates the sum, which is `15`, and returns it.\n",
    "# - The returned value `15` is stored in the variable `result`.\n",
    "\n",
    "# Print the result\n",
    "print(f\"The sum of 10 and 5 is: {result}\")\n",
    "\n",
    "# Explanation:\n",
    "# - `print(f\"The sum of 10 and 5 is: {result}\")` prints the string with the calculated sum.\n",
    "# - The output will be: The sum of 10 and 5 is: 15"
   ]
  },
  {
   "cell_type": "code",
   "execution_count": 7,
   "id": "54671d7b-7ffe-4ddb-966f-72629d120adb",
   "metadata": {},
   "outputs": [
    {
     "name": "stdout",
     "output_type": "stream",
     "text": [
      "Object `include` not found.\n"
     ]
    }
   ],
   "source": [
    "# 5)What is a function signature, and what information does it typically include?\n",
    "#' A function signature is a concise summary of a function's interface. \n",
    "#' It typically includes the function's name, parameter types, and return type. \n",
    "#' The function signature provides a clear understanding of how the function should be called \n",
    "#' and what it returns, without needing to examine the function's implementation details.\n",
    "\n",
    "#' Information Included in a Function Signature:\n",
    "\n",
    "#' 1. Function Name: The name of the function, which uniquely identifies it within a program.\n",
    "\n",
    "#' 2. Parameter Types: The types of parameters accepted by the function. \n",
    "#'    This includes the number of parameters and their respective data types.\n",
    "\n",
    "#' 3. Return Type: The data type of the value returned by the function. \n",
    "#'    If the function does not return any value, this can be specified as `void` or left unspecified.\n",
    "\n",
    "#' Example:\n",
    "\n",
    "#' ```python\n",
    "def calculate_sum(a: int, b: int) -> int:\n",
    "    \"\"\"\n",
    "    This function takes two integers as parameters and returns their sum.\n",
    "    \"\"\"\n",
    "    return a + b\n",
    "#' ```\n",
    "\n",
    "#' In this example:\n",
    "\n",
    "#' - Function Name: `calculate_sum`\n",
    "#' - Parameter Types: `a` and `b` are both of type `int`.\n",
    "#' - Return Type: The function returns an integer (`int`).\n",
    "\n",
    "#' Benefits of Function Signatures:\n",
    "\n",
    "#' 1. Documentation: Function signatures serve as documentation for users of the function, \n",
    "#'    helping them understand how to use it correctly.\n",
    "\n",
    "#' 2. Readability: A clear function signature improves code readability by providing a quick overview \n",
    "#'    of the function's purpose and interface.\n",
    "\n",
    "#' 3. Type Checking: In statically-typed languages, function signatures enable type checking, \n",
    "#'    ensuring that the correct types of arguments are passed to the function \n",
    "#'    and that the return type matches expectations.\n",
    "\n",
    "#' 4. IDE Support: IDEs and code editors can leverage function signatures to provide auto-completion, \n",
    "#'    type hints, and other helpful features for developers.\n",
    "\n",
    "#' By understanding the function signature, developers can use functions effectively, \n",
    "#' reducing errors and improving code quality."
   ]
  },
  {
   "cell_type": "code",
   "execution_count": 9,
   "id": "c74f12c0-0c2f-415c-82be-c4e5fda35947",
   "metadata": {},
   "outputs": [],
   "source": [
    "# 6)Create a Python function that takes two arguments and returns their product.\n",
    "#' This Python function takes two arguments and returns their product.\n",
    "\n",
    "def multiply(a, b):\n",
    "    \"\"\"\n",
    "    This function takes two numbers as arguments and returns their product.\n",
    "    \"\"\"\n",
    "    return a * b\n",
    "\n",
    "#' Explanation:\n",
    "#' - `def multiply(a, b):` defines a function named `multiply` that takes two parameters, `a` and `b`.\n",
    "#' - The docstring `\"\"\"This function takes two numbers as arguments and returns their product.\"\"\"` describes what the function does.\n",
    "#' - The function body `return a * b` calculates the product of `a` and `b` and returns it."
   ]
  },
  {
   "cell_type": "markdown",
   "id": "485bd767-0932-4dca-b455-a4cf7a6c2475",
   "metadata": {},
   "source": [
    "Function Parameters and Arguments:"
   ]
  },
  {
   "cell_type": "code",
   "execution_count": 1,
   "id": "d3e8a561-d0d3-4c1c-a8d3-eb4e605fe684",
   "metadata": {},
   "outputs": [
    {
     "name": "stdout",
     "output_type": "stream",
     "text": [
      "Hello, Alice!\n",
      "Name: Bob, Age: 25\n"
     ]
    }
   ],
   "source": [
    "#1)1.\tExplain the concepts of formal parameters and actual arguments in Python functions.\n",
    "\n",
    "#' In Python functions, the concepts of formal parameters and actual arguments are important to understand \n",
    "#' how data is passed to functions.\n",
    "\n",
    "#' Formal Parameters:\n",
    "#' - Formal parameters are the variables defined in the function signature (definition).\n",
    "#' - They act as placeholders for the values that will be passed to the function.\n",
    "#' - When the function is called, these parameters are assigned the values of the actual arguments.\n",
    "\n",
    "#' Example:\n",
    "def greet(name):\n",
    "    \"\"\"\n",
    "    This function takes one formal parameter 'name' and prints a greeting message.\n",
    "    \"\"\"\n",
    "    print(f\"Hello, {name}!\")\n",
    "\n",
    "#' In the above example:\n",
    "#' - `name` is the formal parameter.\n",
    "#' - It is a placeholder that will receive a value when the function is called.\n",
    "\n",
    "#' Actual Arguments:\n",
    "#' - Actual arguments are the real values or data passed to the function when it is called.\n",
    "#' - These values are assigned to the formal parameters defined in the function signature.\n",
    "\n",
    "#' Example:\n",
    "greet(\"Alice\")\n",
    "\n",
    "#' In the above example:\n",
    "#' - `\"Alice\"` is the actual argument.\n",
    "#' - When `greet(\"Alice\")` is called, the formal parameter `name` is assigned the value `\"Alice\"`.\n",
    "\n",
    "#' Another Example with Multiple Parameters:\n",
    "def add_numbers(a, b):\n",
    "    \"\"\"\n",
    "    This function takes two formal parameters 'a' and 'b' and returns their sum.\n",
    "    \"\"\"\n",
    "    return a + b\n",
    "\n",
    "#' Function Call with Actual Arguments:\n",
    "result = add_numbers(5, 3)\n",
    "\n",
    "#' In the above example:\n",
    "#' - `a` and `b` are formal parameters.\n",
    "#' - `5` and `3` are actual arguments.\n",
    "#' - When `add_numbers(5, 3)` is called, `a` is assigned the value `5` and `b` is assigned the value `3`.\n",
    "#' - The function returns the sum of `a` and `b`, which is `8`.\n",
    "\n",
    "#' Key Points:\n",
    "#' - Formal parameters are defined in the function signature and act as placeholders.\n",
    "#' - Actual arguments are the real values passed to the function during a function call.\n",
    "#' - The actual arguments are mapped to the formal parameters by position or by name (in the case of keyword arguments).\n",
    "\n",
    "#' Example with Keyword Arguments:\n",
    "def display_info(name, age):\n",
    "    \"\"\"\n",
    "    This function takes two formal parameters 'name' and 'age' and prints them.\n",
    "    \"\"\"\n",
    "    print(f\"Name: {name}, Age: {age}\")\n",
    "\n",
    "#' Function Call with Keyword Arguments:\n",
    "display_info(name=\"Bob\", age=25)\n",
    "\n",
    "#' In the above example:\n",
    "#' - `name` and `age` are formal parameters.\n",
    "#' - `\"Bob\"` and `25` are actual arguments passed using keyword arguments.\n",
    "#' - The function call explicitly assigns the value `\"Bob\"` to `name` and `25` to `age`.\n",
    "\n",
    "#' By understanding the concepts of formal parameters and actual arguments, \n",
    "#' you can effectively pass data to functions and use them to perform various operations."
   ]
  },
  {
   "cell_type": "code",
   "execution_count": 2,
   "id": "e5862419-ebdc-411d-af46-aa50afb5d813",
   "metadata": {},
   "outputs": [
    {
     "name": "stdout",
     "output_type": "stream",
     "text": [
      "Hello, Guest!\n",
      "Hello, Alice!\n",
      "Hi, Bob!\n",
      "Welcome, Charlie!\n"
     ]
    }
   ],
   "source": [
    "#2.)\tWrite a Python program that defines a function with default argument values.\n",
    "#' This Python program defines a function with default argument values.\n",
    "\n",
    "def greet(name=\"Guest\", greeting=\"Hello\"):\n",
    "    \"\"\"\n",
    "    This function takes two parameters with default values and prints a greeting message.\n",
    "    \"\"\"\n",
    "    print(f\"{greeting}, {name}!\")\n",
    "\n",
    "#' Explanation:\n",
    "#' - `def greet(name=\"Guest\", greeting=\"Hello\"):` defines a function named `greet` with two parameters.\n",
    "#' - The parameter `name` has a default value of `\"Guest\"`.\n",
    "#' - The parameter `greeting` has a default value of `\"Hello\"`.\n",
    "#' - The function body `print(f\"{greeting}, {name}!\")` prints a greeting message using the provided or default values.\n",
    "\n",
    "#' Calling the function without any arguments:\n",
    "greet()\n",
    "\n",
    "#' Output:\n",
    "#' Hello, Guest!\n",
    "#' Explanation: \n",
    "#' - Since no arguments are provided, the default values `\"Guest\"` and `\"Hello\"` are used.\n",
    "\n",
    "#' Calling the function with one argument:\n",
    "greet(\"Alice\")\n",
    "\n",
    "#' Output:\n",
    "#' Hello, Alice!\n",
    "#' Explanation: \n",
    "#' - The `name` parameter is provided with the value `\"Alice\"`, while the `greeting` parameter uses its default value `\"Hello\"`.\n",
    "\n",
    "#' Calling the function with both arguments:\n",
    "greet(\"Bob\", \"Hi\")\n",
    "\n",
    "#' Output:\n",
    "#' Hi, Bob!\n",
    "#' Explanation:\n",
    "#' - Both `name` and `greeting` parameters are provided with the values `\"Bob\"` and `\"Hi\"`, respectively.\n",
    "\n",
    "#' Calling the function with keyword arguments:\n",
    "greet(greeting=\"Welcome\", name=\"Charlie\")\n",
    "\n",
    "#' Output:\n",
    "#' Welcome, Charlie!\n",
    "#' Explanation:\n",
    "#' - The `greeting` parameter is provided with the value `\"Welcome\"` and the `name` parameter is provided with the value `\"Charlie\"` using keyword arguments.\n",
    "\n",
    "#' By using default argument values, you can make function calls more flexible and provide default behavior when no arguments are supplied."
   ]
  },
  {
   "cell_type": "code",
   "execution_count": 3,
   "id": "4bc18b36-64a8-4ca0-a354-5222a3ccace9",
   "metadata": {},
   "outputs": [
    {
     "name": "stdout",
     "output_type": "stream",
     "text": [
      "Name: Alice, Age: 30, City: New York\n",
      "Name: Bob, Age: 25, City: Los Angeles\n",
      "Name: Charlie, Age: 40, City: Chicago\n",
      "Name: David, Age: 35, City: Houston\n"
     ]
    }
   ],
   "source": [
    "#3) 3.\tHow do you use keyword arguments in Python function calls? Provide an example.\n",
    "#' Keyword arguments in Python allow you to call a function by explicitly specifying the name of each parameter \n",
    "#' and assigning a value to it. This makes the function calls more readable and allows you to specify parameters \n",
    "#' in any order.\n",
    "\n",
    "#' Example Function Definition:\n",
    "def display_info(name, age, city):\n",
    "    \"\"\"\n",
    "    This function takes three parameters and prints the information.\n",
    "    \"\"\"\n",
    "    print(f\"Name: {name}, Age: {age}, City: {city}\")\n",
    "\n",
    "#' Explanation:\n",
    "#' - `def display_info(name, age, city):` defines a function named `display_info` with three parameters: `name`, `age`, and `city`.\n",
    "#' - The function body `print(f\"Name: {name}, Age: {age}, City: {city}\")` prints the provided information.\n",
    "\n",
    "#' Calling the function with positional arguments:\n",
    "display_info(\"Alice\", 30, \"New York\")\n",
    "\n",
    "#' Output:\n",
    "#' Name: Alice, Age: 30, City: New York\n",
    "\n",
    "#' Explanation:\n",
    "#' - The function is called with positional arguments `\"Alice\"`, `30`, and `\"New York\"`.\n",
    "#' - These arguments are mapped to the parameters `name`, `age`, and `city` in the order they are defined.\n",
    "\n",
    "#' Calling the function with keyword arguments:\n",
    "display_info(name=\"Bob\", age=25, city=\"Los Angeles\")\n",
    "\n",
    "#' Output:\n",
    "#' Name: Bob, Age: 25, City: Los Angeles\n",
    "\n",
    "#' Explanation:\n",
    "#' - The function is called with keyword arguments `name=\"Bob\"`, `age=25`, and `city=\"Los Angeles\"`.\n",
    "#' - Each argument is explicitly assigned to the corresponding parameter by name, making the call more readable.\n",
    "\n",
    "#' Calling the function with keyword arguments in a different order:\n",
    "display_info(city=\"Chicago\", name=\"Charlie\", age=40)\n",
    "\n",
    "#' Output:\n",
    "#' Name: Charlie, Age: 40, City: Chicago\n",
    "\n",
    "#' Explanation:\n",
    "#' - The function is called with keyword arguments in a different order: `city=\"Chicago\"`, `name=\"Charlie\"`, and `age=40`.\n",
    "#' - The order of arguments does not matter when using keyword arguments, as each parameter is explicitly specified.\n",
    "\n",
    "#' Using a mix of positional and keyword arguments:\n",
    "display_info(\"David\", age=35, city=\"Houston\")\n",
    "\n",
    "#' Output:\n",
    "#' Name: David, Age: 35, City: Houston\n",
    "\n",
    "#' Explanation:\n",
    "#' - The function is called with a mix of positional and keyword arguments: `\"David\"` (positional), `age=35` (keyword), and `city=\"Houston\"` (keyword).\n",
    "#' - The first argument `\"David\"` is mapped to `name` by position, and the rest are specified by keyword.\n",
    "\n",
    "#' Key Points:\n",
    "#' - Keyword arguments allow you to call a function by explicitly specifying the name of each parameter and assigning a value to it.\n",
    "#' - This improves readability and allows you to specify parameters in any order.\n",
    "#' - You can mix positional and keyword arguments in a function call, but positional arguments must come before keyword arguments."
   ]
  },
  {
   "cell_type": "code",
   "execution_count": 4,
   "id": "e9629a2a-3aaf-4483-86c0-fdf5f7109bae",
   "metadata": {},
   "outputs": [
    {
     "name": "stdout",
     "output_type": "stream",
     "text": [
      "Sum of 1, 2, 3: 6\n",
      "Sum of 10, 20, 30, 40: 100\n",
      "Sum of 5: 5\n"
     ]
    }
   ],
   "source": [
    "#4) Create a Python function that accepts a variable number of arguments and calculates their sum.\n",
    "#' This Python function accepts a variable number of arguments and calculates their sum.\n",
    "\n",
    "def calculate_sum(*args):\n",
    "    \"\"\"\n",
    "    This function takes a variable number of arguments and returns their sum.\n",
    "    \"\"\"\n",
    "    return sum(args)\n",
    "\n",
    "#' Explanation:\n",
    "#' - `def calculate_sum(*args):` defines a function named `calculate_sum` that accepts a variable number of arguments using `*args`.\n",
    "#' - The `*args` syntax allows the function to accept any number of positional arguments and stores them as a tuple named `args`.\n",
    "#' - The function body `return sum(args)` calculates the sum of the arguments using the built-in `sum()` function and returns it.\n",
    "\n",
    "#' Calling the function with different numbers of arguments:\n",
    "result1 = calculate_sum(1, 2, 3)\n",
    "result2 = calculate_sum(10, 20, 30, 40)\n",
    "result3 = calculate_sum(5)\n",
    "\n",
    "#' Printing the results:\n",
    "print(f\"Sum of 1, 2, 3: {result1}\")         # Output: Sum of 1, 2, 3: 6\n",
    "print(f\"Sum of 10, 20, 30, 40: {result2}\") # Output: Sum of 10, 20, 30, 40: 100\n",
    "print(f\"Sum of 5: {result3}\")              # Output: Sum of 5: 5\n",
    "\n",
    "#' Explanation:\n",
    "#' - `calculate_sum(1, 2, 3)` calls the function with three arguments: `1`, `2`, and `3`. The function returns their sum, which is `6`.\n",
    "#' - `calculate_sum(10, 20, 30, 40)` calls the function with four arguments: `10`, `20`, `30`, and `40`. The function returns their sum, which is `100`.\n",
    "#' - `calculate_sum(5)` calls the function with one argument: `5`. The function returns the sum, which is `5`.\n",
    "\n",
    "#' Key Points:\n",
    "#' - The `*args` syntax in the function definition allows the function to accept any number of positional arguments.\n",
    "#' - The arguments are stored in a tuple named `args`.\n",
    "#' - The built-in `sum()` function is used to calculate the sum of the arguments.\n",
    "#' - The function can handle different numbers of arguments and return their sum."
   ]
  },
  {
   "cell_type": "code",
   "execution_count": 5,
   "id": "ec2fa175-a145-49a5-bea5-ff7f1f41d203",
   "metadata": {},
   "outputs": [
    {
     "name": "stdout",
     "output_type": "stream",
     "text": [
      "1\n",
      "2\n",
      "3\n",
      "a\n",
      "b\n",
      "c\n",
      "d\n",
      "10\n",
      "name: Alice\n",
      "age: 30\n",
      "city: New York\n",
      "country: USA\n",
      "Positional arguments: (1, 2, 3)\n",
      "Keyword arguments: {'name': 'Alice', 'age': 30}\n"
     ]
    }
   ],
   "source": [
    "#5.\tWhat is the purpose of the `*args` and `**kwargs` syntax in function parameter lists?\n",
    "#' The `*args` and `**kwargs` syntax in function parameter lists allows a function to accept \n",
    "#' a variable number of arguments and keyword arguments, respectively. \n",
    "#' This provides flexibility in function calls and enables the creation of functions \n",
    "#' that can handle a wide range of inputs.\n",
    "\n",
    "#' Purpose of `*args`:\n",
    "#' - `*args` allows a function to accept any number of positional arguments.\n",
    "#' - The arguments passed using `*args` are stored in a tuple.\n",
    "#' - This is useful when you don't know in advance how many arguments might be passed to the function.\n",
    "\n",
    "#' Example of `*args`:\n",
    "def example_args(*args):\n",
    "    \"\"\"\n",
    "    This function accepts any number of positional arguments and prints them.\n",
    "    \"\"\"\n",
    "    for arg in args:\n",
    "        print(arg)\n",
    "\n",
    "#' Calling the function with different numbers of arguments:\n",
    "example_args(1, 2, 3)\n",
    "example_args('a', 'b', 'c', 'd')\n",
    "example_args(10)\n",
    "\n",
    "#' Explanation:\n",
    "#' - The `example_args` function is defined with `*args`, allowing it to accept any number of positional arguments.\n",
    "#' - The arguments are printed one by one.\n",
    "\n",
    "#' Purpose of `**kwargs`:\n",
    "#' - `**kwargs` allows a function to accept any number of keyword arguments.\n",
    "#' - The arguments passed using `**kwargs` are stored in a dictionary.\n",
    "#' - This is useful when you want to handle named arguments that you may not know in advance.\n",
    "\n",
    "#' Example of `**kwargs`:\n",
    "def example_kwargs(**kwargs):\n",
    "    \"\"\"\n",
    "    This function accepts any number of keyword arguments and prints them.\n",
    "    \"\"\"\n",
    "    for key, value in kwargs.items():\n",
    "        print(f\"{key}: {value}\")\n",
    "\n",
    "#' Calling the function with different keyword arguments:\n",
    "example_kwargs(name=\"Alice\", age=30)\n",
    "example_kwargs(city=\"New York\", country=\"USA\")\n",
    "example_kwargs()\n",
    "\n",
    "#' Output:\n",
    "#' name: Alice\n",
    "#' age: 30\n",
    "#' city: New York\n",
    "#' country: USA\n",
    "\n",
    "#' Explanation:\n",
    "#' - The `example_kwargs` function is defined with `**kwargs`, allowing it to accept any number of keyword arguments.\n",
    "#' - The arguments are printed as key-value pairs.\n",
    "\n",
    "#' Combining `*args` and `**kwargs`:\n",
    "def example_combined(*args, **kwargs):\n",
    "    \"\"\"\n",
    "    This function accepts both positional and keyword arguments and prints them.\n",
    "    \"\"\"\n",
    "    print(\"Positional arguments:\", args)\n",
    "    print(\"Keyword arguments:\", kwargs)\n",
    "\n",
    "#' Calling the function with both types of arguments:\n",
    "example_combined(1, 2, 3, name=\"Alice\", age=30)\n",
    "\n",
    "#' Output:\n",
    "#' Positional arguments: (1, 2, 3)\n",
    "#' Keyword arguments: {'name': 'Alice', 'age': 30}\n",
    "\n",
    "#' Explanation:\n",
    "#' - The `example_combined` function accepts both positional (`*args`) and keyword arguments (`**kwargs`).\n",
    "#' - It prints the positional arguments as a tuple and the keyword arguments as a dictionary.\n",
    "\n",
    "#' Key Points:\n",
    "#' - `*args` is used to pass a variable number of positional arguments to a function.\n",
    "#' - `**kwargs` is used to pass a variable number of keyword arguments to a function.\n",
    "#' - Both `*args` and `**kwargs` can be used together in a function definition to accept a flexible number of both positional and keyword arguments."
   ]
  },
  {
   "cell_type": "markdown",
   "id": "4add7197-6f11-432d-92f6-1a0f58f71fb0",
   "metadata": {},
   "source": [
    "Return Values and Scoping:"
   ]
  },
  {
   "cell_type": "code",
   "execution_count": 6,
   "id": "ef6342af-3df6-444b-b33c-686873d005a5",
   "metadata": {},
   "outputs": [
    {
     "name": "stdout",
     "output_type": "stream",
     "text": [
      "The sum is: 8\n",
      "Positive\n",
      "Negative\n",
      "Zero\n",
      "The first even number is: 6\n",
      "Name: Alice, Age: 30, City: New York\n"
     ]
    }
   ],
   "source": [
    "#1.\tDescribe the role of the `return` statement in Python functions and provide examples.\n",
    "#' The `return` statement in Python functions serves several important roles:\n",
    "\n",
    "#' 1. It specifies the value that a function call should return to the caller.\n",
    "#' 2. It allows a function to pass data back to the caller.\n",
    "#' 3. It exits the function, terminating its execution and optionally passing back an expression.\n",
    "\n",
    "#' Basic Example of a `return` Statement:\n",
    "def add(a, b):\n",
    "    \"\"\"\n",
    "    This function takes two arguments and returns their sum.\n",
    "    \"\"\"\n",
    "    return a + b\n",
    "\n",
    "#' Explanation:\n",
    "#' - The `add` function takes two arguments, `a` and `b`.\n",
    "#' - It uses the `return` statement to pass the sum of `a` and `b` back to the caller.\n",
    "\n",
    "#' Calling the function and printing the result:\n",
    "result = add(3, 5)\n",
    "print(f\"The sum is: {result}\")\n",
    "\n",
    "#' Output:\n",
    "#' The sum is: 8\n",
    "\n",
    "#' Multiple Return Statements:\n",
    "def check_number(n):\n",
    "    \"\"\"\n",
    "    This function checks if a number is positive, negative, or zero and returns an appropriate message.\n",
    "    \"\"\"\n",
    "    if n > 0:\n",
    "        return \"Positive\"\n",
    "    elif n < 0:\n",
    "        return \"Negative\"\n",
    "    else:\n",
    "        return \"Zero\"\n",
    "\n",
    "#' Explanation:\n",
    "#' - The `check_number` function uses multiple `return` statements to return different messages based on the value of `n`.\n",
    "\n",
    "#' Calling the function with different arguments:\n",
    "print(check_number(10))  # Output: Positive\n",
    "print(check_number(-5))  # Output: Negative\n",
    "print(check_number(0))   # Output: Zero\n",
    "\n",
    "#' Early Exit with `return`:\n",
    "def find_first_even(numbers):\n",
    "    \"\"\"\n",
    "    This function returns the first even number in a list of numbers.\n",
    "    \"\"\"\n",
    "    for number in numbers:\n",
    "        if number % 2 == 0:\n",
    "            return number\n",
    "    return None  # Return None if no even number is found\n",
    "\n",
    "#' Explanation:\n",
    "#' - The `find_first_even` function uses `return` to exit the function early once the first even number is found.\n",
    "\n",
    "#' Calling the function:\n",
    "numbers_list = [1, 3, 5, 6, 7, 8]\n",
    "first_even = find_first_even(numbers_list)\n",
    "print(f\"The first even number is: {first_even}\")\n",
    "\n",
    "#' Output:\n",
    "#' The first even number is: 6\n",
    "\n",
    "#' Returning Multiple Values:\n",
    "def get_user_info():\n",
    "    \"\"\"\n",
    "    This function returns a user's name, age, and city as a tuple.\n",
    "    \"\"\"\n",
    "    name = \"Alice\"\n",
    "    age = 30\n",
    "    city = \"New York\"\n",
    "    return name, age, city\n",
    "\n",
    "#' Explanation:\n",
    "#' - The `get_user_info` function uses `return` to return multiple values as a tuple.\n",
    "\n",
    "#' Calling the function and unpacking the returned values:\n",
    "name, age, city = get_user_info()\n",
    "print(f\"Name: {name}, Age: {age}, City: {city}\")\n",
    "\n",
    "#' Output:\n",
    "#' Name: Alice, Age: 30, City: New York\n",
    "\n",
    "#' Key Points:\n",
    "#' - The `return` statement is used to specify the value a function should return to its caller.\n",
    "#' - It can return a single value, multiple values as a tuple, or nothing (i.e., return None).\n",
    "#' - It can be used to exit a function early, terminating its execution."
   ]
  },
  {
   "cell_type": "code",
   "execution_count": 7,
   "id": "ba947d05-cce9-40ac-b921-3ce640e38d15",
   "metadata": {},
   "outputs": [
    {
     "name": "stdout",
     "output_type": "stream",
     "text": [
      "I am a local variable\n",
      "I am a global variable\n",
      "I have been modified\n",
      "I have been modified\n"
     ]
    }
   ],
   "source": [
    "#2.\tExplain the concept of variable scope in Python, including local and global variables.\n",
    "#' In Python, the scope of a variable refers to the region of the code where the variable is accessible. \n",
    "#' Python has two main types of variable scope: local and global.\n",
    "\n",
    "#' Local Variables:\n",
    "#' - A local variable is a variable that is defined inside a function and is only accessible within that function.\n",
    "#' - Local variables are created when the function is called and destroyed when the function exits.\n",
    "\n",
    "#' Example of Local Variables:\n",
    "def local_scope_example():\n",
    "    \"\"\"\n",
    "    This function demonstrates local variables.\n",
    "    \"\"\"\n",
    "    local_var = \"I am a local variable\"\n",
    "    print(local_var)\n",
    "\n",
    "#' Calling the function:\n",
    "local_scope_example()\n",
    "\n",
    "#' Output:\n",
    "#' I am a local variable\n",
    "\n",
    "#' Explanation:\n",
    "#' - The variable `local_var` is defined inside the `local_scope_example` function, making it a local variable.\n",
    "#' - It is only accessible within the function and not outside of it.\n",
    "\n",
    "#' Attempting to access the local variable outside the function:\n",
    "# print(local_var)  # This will raise a NameError because local_var is not defined outside the function.\n",
    "\n",
    "#' Global Variables:\n",
    "#' - A global variable is a variable that is defined outside any function and is accessible throughout the entire script.\n",
    "#' - Global variables can be read and modified inside functions using the `global` keyword.\n",
    "\n",
    "#' Example of Global Variables:\n",
    "global_var = \"I am a global variable\"\n",
    "\n",
    "def global_scope_example():\n",
    "    \"\"\"\n",
    "    This function demonstrates global variables.\n",
    "    \"\"\"\n",
    "    print(global_var)\n",
    "\n",
    "#' Calling the function:\n",
    "global_scope_example()\n",
    "\n",
    "#' Output:\n",
    "#' I am a global variable\n",
    "\n",
    "#' Explanation:\n",
    "#' - The variable `global_var` is defined outside any function, making it a global variable.\n",
    "#' - It is accessible within the `global_scope_example` function and throughout the script.\n",
    "\n",
    "#' Modifying Global Variables Inside a Function:\n",
    "def modify_global_variable():\n",
    "    \"\"\"\n",
    "    This function demonstrates modifying a global variable.\n",
    "    \"\"\"\n",
    "    global global_var\n",
    "    global_var = \"I have been modified\"\n",
    "    print(global_var)\n",
    "\n",
    "#' Calling the function to modify the global variable:\n",
    "modify_global_variable()\n",
    "\n",
    "#' Output:\n",
    "#' I have been modified\n",
    "\n",
    "#' Explanation:\n",
    "#' - The `global` keyword is used to declare that `global_var` inside the function refers to the global variable.\n",
    "#' - The global variable `global_var` is modified inside the function.\n",
    "\n",
    "#' Checking the value of the global variable outside the function:\n",
    "print(global_var)\n",
    "\n",
    "#' Output:\n",
    "#' I have been modified\n",
    "\n",
    "#' Explanation:\n",
    "#' - The modification to the global variable inside the function persists outside the function.\n",
    "\n",
    "#' Key Points:\n",
    "#' - **Local Variables**: Defined within a function, accessible only within that function.\n",
    "#' - **Global Variables**: Defined outside any function, accessible throughout the entire script.\n",
    "#' - The `global` keyword is used to modify a global variable inside a function.\n",
    "#' - Python first looks for a variable in the local scope, then in the enclosing scopes, and finally in the global scope."
   ]
  },
  {
   "cell_type": "code",
   "execution_count": 8,
   "id": "b41f4a5b-cfe5-42c5-ac56-fdf342a797b2",
   "metadata": {},
   "outputs": [
    {
     "name": "stdout",
     "output_type": "stream",
     "text": [
      "Outside the function:\n",
      "Inside the function:\n",
      "I am a global variable\n",
      "Before modification: I am a global variable\n",
      "After modification: I have been modified\n"
     ]
    }
   ],
   "source": [
    "#3.\tWrite a Python program that demonstrates the use of global variables within functions.\n",
    "\n",
    "#' This Python program demonstrates the use of global variables within functions.\n",
    "\n",
    "#' Define a global variable outside any function:\n",
    "global_var = \"I am a global variable\"\n",
    "\n",
    "#' Define a function that accesses the global variable:\n",
    "def access_global_variable():\n",
    "    \"\"\"\n",
    "    This function demonstrates accessing a global variable.\n",
    "    \"\"\"\n",
    "    print(\"Inside the function:\")\n",
    "    print(global_var)  # Access the global variable\n",
    "\n",
    "#' Call the function to demonstrate accessing the global variable:\n",
    "print(\"Outside the function:\")\n",
    "access_global_variable()\n",
    "\n",
    "#' Output:\n",
    "#' Outside the function:\n",
    "#' Inside the function:\n",
    "#' I am a global variable\n",
    "\n",
    "#' Explanation:\n",
    "#' - The global variable `global_var` is defined outside any function and is accessible throughout the entire script.\n",
    "#' - The function `access_global_variable` accesses and prints the global variable `global_var` from within the function.\n",
    "#' - When the function is called, it prints the value of the global variable.\n",
    "\n",
    "#' Define a function that modifies a global variable:\n",
    "def modify_global_variable():\n",
    "    \"\"\"\n",
    "    This function demonstrates modifying a global variable.\n",
    "    \"\"\"\n",
    "    global global_var  # Declare global_var as global inside the function\n",
    "    global_var = \"I have been modified\"\n",
    "\n",
    "#' Call the function to modify the global variable:\n",
    "print(\"Before modification:\", global_var)\n",
    "modify_global_variable()\n",
    "print(\"After modification:\", global_var)\n",
    "\n",
    "#' Output:\n",
    "#' Before modification: I am a global variable\n",
    "#' After modification: I have been modified\n",
    "\n",
    "#' Explanation:\n",
    "#' - The function `modify_global_variable` modifies the value of the global variable `global_var` inside the function using the `global` keyword.\n",
    "#' - Before calling the function, the value of `global_var` is printed, showing the original value.\n",
    "#' - After calling the function, the value of `global_var` is printed again, showing the modified value.\n",
    "\n",
    "#' Key Points:\n",
    "#' - Global variables can be accessed and modified inside functions using the `global` keyword.\n",
    "#' - Modifying a global variable inside a function affects its value throughout the entire script.\n"
   ]
  },
  {
   "cell_type": "code",
   "execution_count": 9,
   "id": "d04be7b8-73c0-48ac-824f-40abca5778ec",
   "metadata": {},
   "outputs": [
    {
     "name": "stdout",
     "output_type": "stream",
     "text": [
      "Factorial of 0: 1\n",
      "Factorial of 1: 1\n",
      "Factorial of 5: 120\n",
      "Factorial of 10: 3628800\n"
     ]
    }
   ],
   "source": [
    "#4.\tCreate a Python function that calculates the factorial of a number and returns it.\n",
    "def factorial(n):\n",
    "    \"\"\"\n",
    "    Calculate the factorial of a number and return it.\n",
    "    \n",
    "    Parameters:\n",
    "    n (int): The number for which factorial is to be calculated.\n",
    "    \n",
    "    Returns:\n",
    "    int: The factorial of the given number.\n",
    "    \"\"\"\n",
    "    # Base case: Factorial of 0 or 1 is 1\n",
    "    if n == 0 or n == 1:\n",
    "        return 1\n",
    "    \n",
    "    # Recursive case: Factorial of n is n multiplied by factorial of (n-1)\n",
    "    return n * factorial(n-1)\n",
    "\n",
    "# Test the function with different inputs\n",
    "print(\"Factorial of 0:\", factorial(0))  # Output: 1\n",
    "print(\"Factorial of 1:\", factorial(1))  # Output: 1\n",
    "print(\"Factorial of 5:\", factorial(5))  # Output: 120\n",
    "print(\"Factorial of 10:\", factorial(10))  # Output: 3628800"
   ]
  },
  {
   "cell_type": "code",
   "execution_count": 10,
   "id": "da8c4f32-2469-4aec-83aa-7595bae0114b",
   "metadata": {},
   "outputs": [
    {
     "name": "stdout",
     "output_type": "stream",
     "text": [
      "Outside the function:\n",
      "Inside the function:\n",
      "I am a global variable\n"
     ]
    }
   ],
   "source": [
    "#5.\tHow can you access variables defined outside a function from within the function?\n",
    "# Define a global variable outside the function\n",
    "global_var = \"I am a global variable\"\n",
    "\n",
    "# Define a function that accesses the global variable\n",
    "def access_global_variable():\n",
    "    \"\"\"\n",
    "    This function demonstrates accessing a global variable.\n",
    "    \"\"\"\n",
    "    # Access the global variable\n",
    "    print(\"Inside the function:\")\n",
    "    print(global_var)\n",
    "\n",
    "# Call the function to demonstrate accessing the global variable\n",
    "print(\"Outside the function:\")\n",
    "access_global_variable()\n",
    "\n",
    "# Output:\n",
    "# Outside the function:\n",
    "# Inside the function:\n",
    "# I am a global variable\n"
   ]
  },
  {
   "cell_type": "markdown",
   "id": "e0939812-0c2a-4306-b097-91897d89391b",
   "metadata": {},
   "source": [
    "Lambda Functions and Higher-Order Functions:"
   ]
  },
  {
   "cell_type": "code",
   "execution_count": 11,
   "id": "e1ad14c6-b57b-4e36-b626-1df10498277e",
   "metadata": {},
   "outputs": [
    {
     "name": "stdout",
     "output_type": "stream",
     "text": [
      "25\n"
     ]
    }
   ],
   "source": [
    "#1.\tWhat are lambda functions in Python, and when are they typically used?\n",
    "\n",
    "\n",
    "# Lambda functions in Python are small, anonymous functions defined using the `lambda` keyword.\n",
    "# Unlike normal functions defined using the `def` keyword, lambda functions can only contain a single expression,\n",
    "# but they can accept any number of arguments.\n",
    "# Lambda functions are typically used when you need a short, throwaway function for a specific purpose,\n",
    "# especially when you want to pass a function as an argument to another function.\n",
    "\n",
    "# Example:\n",
    "# Define a lambda function to calculate the square of a number\n",
    "square = lambda x: x**2\n",
    "\n",
    "# Call the lambda function\n",
    "result = square(5)\n",
    "print(result)  # Output: 25"
   ]
  },
  {
   "cell_type": "code",
   "execution_count": 12,
   "id": "29037f3f-a765-437c-aa01-4cab91c502fd",
   "metadata": {},
   "outputs": [
    {
     "name": "stdout",
     "output_type": "stream",
     "text": [
      "Sorted list of tuples based on the second element:\n",
      "[(3, 2), (4, 3), (1, 5), (2, 7)]\n"
     ]
    }
   ],
   "source": [
    "#2.\tWrite a Python program that uses lambda functions to sort a list of tuples based on the second element.\n",
    "\n",
    "\n",
    "# Write a Python program that uses lambda functions to sort a list of tuples based on the second element.\n",
    "\n",
    "# Define a list of tuples\n",
    "data = [(1, 5), (3, 2), (2, 7), (4, 3)]\n",
    "\n",
    "# Sort the list of tuples based on the second element using a lambda function\n",
    "sorted_data = sorted(data, key=lambda x: x[1])\n",
    "\n",
    "# Print the sorted list\n",
    "print(\"Sorted list of tuples based on the second element:\")\n",
    "print(sorted_data)"
   ]
  },
  {
   "cell_type": "code",
   "execution_count": 13,
   "id": "dc1f7e69-3ce5-4aac-9212-cdf88ea64593",
   "metadata": {},
   "outputs": [
    {
     "name": "stdout",
     "output_type": "stream",
     "text": [
      "Result of addition: 8\n",
      "Result of subtraction: 6\n",
      "Result of multiplication: 12\n"
     ]
    }
   ],
   "source": [
    "#3.\tExplain the concept of higher-order functions in Python, and provide an example.\n",
    "# Higher-order functions in Python are functions that can take other functions as arguments or return functions as results.\n",
    "# This concept is derived from functional programming paradigms and allows for powerful and flexible programming techniques.\n",
    "\n",
    "# Example of Higher-Order Functions:\n",
    "# Define a higher-order function named `apply_operation`\n",
    "def apply_operation(operation, x, y):\n",
    "    \"\"\"\n",
    "    Apply the specified operation to the given arguments and return the result.\n",
    "    \n",
    "    Parameters:\n",
    "    operation (function): The operation to apply.\n",
    "    x (int): The first operand.\n",
    "    y (int): The second operand.\n",
    "    \n",
    "    Returns:\n",
    "    int: The result of applying the operation to the operands.\n",
    "    \"\"\"\n",
    "    return operation(x, y)\n",
    "\n",
    "# Define some simple arithmetic functions to use as operations\n",
    "def add(x, y):\n",
    "    return x + y\n",
    "\n",
    "def subtract(x, y):\n",
    "    return x - y\n",
    "\n",
    "def multiply(x, y):\n",
    "    return x * y\n",
    "\n",
    "# Call the higher-order function with different operations\n",
    "result1 = apply_operation(add, 5, 3)\n",
    "result2 = apply_operation(subtract, 10, 4)\n",
    "result3 = apply_operation(multiply, 2, 6)\n",
    "\n",
    "# Print the results\n",
    "print(\"Result of addition:\", result1)      # Output: Result of addition: 8\n",
    "print(\"Result of subtraction:\", result2)   # Output: Result of subtraction: 6\n",
    "print(\"Result of multiplication:\", result3) # Output: Result of multiplication: 12\n",
    "\n"
   ]
  },
  {
   "cell_type": "code",
   "execution_count": 14,
   "id": "a98a7381-4bfa-4bbe-965e-6b6c5b898897",
   "metadata": {},
   "outputs": [
    {
     "name": "stdout",
     "output_type": "stream",
     "text": [
      "Original list: [1, 2, 3, 4, 5]\n",
      "Squared numbers: [1, 4, 9, 16, 25]\n"
     ]
    }
   ],
   "source": [
    "#4.\tCreate a Python function that takes a list of numbers and a function as arguments, applying the function to each element in the list.\n",
    "\n",
    "\n",
    "\n",
    "def apply_function_to_list(numbers, func):\n",
    "    \"\"\"\n",
    "    Apply the specified function to each element in the list of numbers.\n",
    "    \n",
    "    Parameters:\n",
    "    numbers (list): A list of numbers.\n",
    "    func (function): The function to apply to each element in the list.\n",
    "    \n",
    "    Returns:\n",
    "    list: A list containing the results of applying the function to each element.\n",
    "    \"\"\"\n",
    "    # Apply the function to each element in the list using list comprehension\n",
    "    result = [func(num) for num in numbers]\n",
    "    return result\n",
    "\n",
    "# Example usage:\n",
    "# Define a list of numbers\n",
    "numbers = [1, 2, 3, 4, 5]\n",
    "\n",
    "# Define a function to square a number\n",
    "def square(x):\n",
    "    return x**2\n",
    "\n",
    "# Apply the square function to each element in the list\n",
    "squared_numbers = apply_function_to_list(numbers, square)\n",
    "\n",
    "# Print the original list and the result\n",
    "print(\"Original list:\", numbers)\n",
    "print(\"Squared numbers:\", squared_numbers)\n"
   ]
  },
  {
   "cell_type": "markdown",
   "id": "28e3b277-292e-429c-b60d-083593038eb9",
   "metadata": {},
   "source": [
    "Built-in Functions:"
   ]
  },
  {
   "cell_type": "code",
   "execution_count": 15,
   "id": "58fd2d20-b3fd-4421-aa85-1c8bfa46ea67",
   "metadata": {},
   "outputs": [
    {
     "name": "stdout",
     "output_type": "stream",
     "text": [
      "Length of list: 5\n",
      "Maximum value: 50\n",
      "Minimum value: e\n"
     ]
    }
   ],
   "source": [
    "#1.\tDescribe the role of built-in functions like `len()`, `max()`, and `min()` in Python.\n",
    "\n",
    "\n",
    "# Built-in functions like `len()`, `max()`, and `min()` are fundamental functions provided by Python.\n",
    "# They are commonly used to perform basic operations on data structures like lists, tuples, strings, and others.\n",
    "\n",
    "# `len()` function:\n",
    "# - The `len()` function returns the number of items in a collection (e.g., a list, tuple, string, etc.).\n",
    "# - It takes a single argument, which must be a collection or a sequence-like object.\n",
    "# - For strings, `len()` returns the number of characters in the string.\n",
    "# - For lists and tuples, `len()` returns the number of elements in the list or tuple.\n",
    "\n",
    "# Example usage of `len()` function:\n",
    "my_list = [1, 2, 3, 4, 5]\n",
    "length_of_list = len(my_list)\n",
    "print(\"Length of list:\", length_of_list)  # Output: Length of list: 5\n",
    "\n",
    "# `max()` function:\n",
    "# - The `max()` function returns the largest item in an iterable or the largest of two or more arguments.\n",
    "# - It can take multiple arguments or a single iterable.\n",
    "# - For numeric values, `max()` returns the maximum value.\n",
    "# - For strings, `max()` returns the string that comes last in lexicographic (alphabetical) order.\n",
    "\n",
    "# Example usage of `max()` function:\n",
    "my_tuple = (10, 20, 30, 40, 50)\n",
    "maximum_value = max(my_tuple)\n",
    "print(\"Maximum value:\", maximum_value)  # Output: Maximum value: 50\n",
    "\n",
    "# `min()` function:\n",
    "# - The `min()` function returns the smallest item in an iterable or the smallest of two or more arguments.\n",
    "# - Similar to `max()`, it can take multiple arguments or a single iterable.\n",
    "# - For numeric values, `min()` returns the minimum value.\n",
    "# - For strings, `min()` returns the string that comes first in lexicographic (alphabetical) order.\n",
    "\n",
    "# Example usage of `min()` function:\n",
    "my_string = \"hello\"\n",
    "minimum_value = min(my_string)\n",
    "print(\"Minimum value:\", minimum_value)  # Output: Minimum value: e\n",
    "\n",
    "# Key points:\n",
    "# - `len()`, `max()`, and `min()` are built-in functions provided by Python for common tasks.\n",
    "# - They operate on different types of data structures and return useful information such as length, maximum, and minimum values.\n",
    "# - Understanding and using these functions can simplify and streamline your code when working with collections of data."
   ]
  },
  {
   "cell_type": "code",
   "execution_count": 16,
   "id": "8f32824f-0f7e-44ee-8f43-5b4831f31b16",
   "metadata": {},
   "outputs": [
    {
     "name": "stdout",
     "output_type": "stream",
     "text": [
      "Original list: [1, 2, 3, 4, 5]\n",
      "List with doubled numbers: [2, 4, 6, 8, 10]\n"
     ]
    }
   ],
   "source": [
    "#2.\tWrite a Python program that uses the `map()` function to apply a function to each element of a list.\n",
    "\n",
    "\n",
    "# Define a function to double a number\n",
    "def double(x):\n",
    "    return x * 2\n",
    "\n",
    "# Define a list of numbers\n",
    "numbers = [1, 2, 3, 4, 5]\n",
    "\n",
    "# Use the `map()` function to apply the `double` function to each element of the list\n",
    "doubled_numbers = map(double, numbers)\n",
    "\n",
    "# Convert the result to a list (as `map()` returns an iterator)\n",
    "doubled_numbers_list = list(doubled_numbers)\n",
    "\n",
    "# Print the original list and the list with doubled numbers\n",
    "print(\"Original list:\", numbers)\n",
    "print(\"List with doubled numbers:\", doubled_numbers_list)"
   ]
  },
  {
   "cell_type": "code",
   "execution_count": 17,
   "id": "7500ab17-6496-4ba8-ae0d-691dc8ee6acc",
   "metadata": {},
   "outputs": [
    {
     "name": "stdout",
     "output_type": "stream",
     "text": [
      "Original list: [1, 2, 3, 4, 5, 6, 7, 8, 9, 10]\n",
      "List of even numbers: [2, 4, 6, 8, 10]\n"
     ]
    }
   ],
   "source": [
    "#3.\tHow does the `filter()` function work in Python, and when would you use it?\n",
    "\n",
    "# Syntax of the filter() function:\n",
    "# filter(function, iterable)\n",
    "\n",
    "# Parameters:\n",
    "# - function: A function that takes a single argument and returns a boolean value (True or False). This function is applied to each element of the iterable.\n",
    "# - iterable: The iterable (e.g., list, tuple, set) from which elements are filtered.\n",
    "\n",
    "# Example usage of the filter() function:\n",
    "# Define a function to check if a number is even\n",
    "def is_even(n):\n",
    "    return n % 2 == 0\n",
    "\n",
    "# Define a list of numbers\n",
    "numbers = [1, 2, 3, 4, 5, 6, 7, 8, 9, 10]\n",
    "\n",
    "# Use the filter() function to filter even numbers from the list\n",
    "even_numbers = filter(is_even, numbers)\n",
    "\n",
    "# Convert the result to a list (as filter() returns an iterator)\n",
    "even_numbers_list = list(even_numbers)\n",
    "\n",
    "# Print the original list and the list of even numbers\n",
    "print(\"Original list:\", numbers)\n",
    "print(\"List of even numbers:\", even_numbers_list)"
   ]
  },
  {
   "cell_type": "code",
   "execution_count": 18,
   "id": "a3f27e42-9cc0-482a-b382-63400272cebc",
   "metadata": {},
   "outputs": [
    {
     "name": "stdout",
     "output_type": "stream",
     "text": [
      "Original list: [1, 2, 3, 4, 5]\n",
      "Product of all elements: 120\n"
     ]
    }
   ],
   "source": [
    "#4.\tCreate a Python program that uses the `reduce()` function to find the product of all elements in a list.\n",
    "\n",
    "\n",
    "from functools import reduce\n",
    "\n",
    "# Define a list of numbers\n",
    "numbers = [1, 2, 3, 4, 5]\n",
    "\n",
    "# Define a function to multiply two numbers\n",
    "def multiply(x, y):\n",
    "    return x * y\n",
    "\n",
    "# Use the `reduce()` function to find the product of all elements in the list\n",
    "product = reduce(multiply, numbers)\n",
    "\n",
    "# Print the original list and the product\n",
    "print(\"Original list:\", numbers)\n",
    "print(\"Product of all elements:\", product)\n"
   ]
  },
  {
   "cell_type": "markdown",
   "id": "95ed651a-f98e-479e-a022-769d1e16c08e",
   "metadata": {},
   "source": [
    "Function Documentation and Best Practices:"
   ]
  },
  {
   "cell_type": "code",
   "execution_count": 20,
   "id": "680374a4-12a1-4763-98ad-f70503359597",
   "metadata": {},
   "outputs": [],
   "source": [
    "#1.\tExplain the purpose of docstrings in Python functions and how to write them.\n",
    "\n",
    "# Explain the purpose of docstrings in Python functions and how to write them.\n",
    "\n",
    "# Docstrings in Python functions serve the purpose of documenting the functionality of the function, its parameters, return values, and any other relevant information.\n",
    "# They provide a convenient way to document code and make it easier for other developers (or even yourself) to understand how to use the function without diving into the implementation details.\n",
    "# Docstrings are also used by various tools and libraries for generating documentation automatically.\n",
    "\n",
    "# To write a docstring for a Python function, you simply include a string literal as the first statement in the function body. This string should describe the function's purpose, its parameters, and its return value.\n",
    "# Here's how you can write a docstring:\n",
    "\n",
    "def my_function(parameter1, parameter2):\n",
    "    \"\"\"\n",
    "    This is a docstring for my_function.\n",
    "\n",
    "    Parameters:\n",
    "    parameter1 (type): Description of parameter1.\n",
    "    parameter2 (type): Description of parameter2.\n",
    "\n",
    "    Returns:\n",
    "    type: Description of the return value.\n",
    "    \"\"\"\n",
    "    # Function implementation goes here\n",
    "    pass\n"
   ]
  },
  {
   "cell_type": "code",
   "execution_count": 22,
   "id": "64e7ef22-3010-4b02-ac84-9caee4f6faf3",
   "metadata": {},
   "outputs": [],
   "source": [
    "#2.\tDescribe some best practices for naming functions and variables in Python, including naming conventions and guidelines.\n",
    "\n",
    "\n",
    "# Naming Functions:\n",
    "# 1. Use descriptive names that accurately convey the purpose of the function.\n",
    "# 2. Use lowercase letters and separate words with underscores (_).\n",
    "# 3. Follow the convention of using verbs or verb phrases for function names, indicating actions or operations performed by the function.\n",
    "# 4. Avoid using hyphens (-) or special characters in function names.\n",
    "\n",
    "# Naming Variables:\n",
    "# 1. Use descriptive names that clearly indicate the meaning or purpose of the variable.\n",
    "# 2. Use lowercase letters and separate words with underscores (_).\n",
    "# 3. Follow the convention of using nouns or noun phrases for variable names, representing entities, values, or objects.\n",
    "# 4. Use meaningful names that reflect the data type or content of the variable, such as `age`, `name`, `total_count`, etc.\n",
    "# 5. Avoid using single-letter variable names unless they represent common conventions (e.g., `i` for loop iterators, `x`, `y`, `z` for coordinates).\n",
    "# 6. Avoid using reserved keywords or built-in function names as variable names to prevent conflicts and confusion.\n",
    "\n",
    "# Naming Conventions and Guidelines:\n",
    "# 1. Follow the Python naming conventions specified in PEP 8 (Python Enhancement Proposal 8).\n",
    "# 2. Use descriptive names that are easy to understand and maintain.\n",
    "# 3. Use consistent naming styles throughout your codebase to ensure readability and consistency.\n",
    "# 4. Use camelCase or PascalCase for naming conventions in classes, methods, and constants if following conventions from other programming languages.\n",
    "# 5. Avoid excessively long names or abbreviations that may reduce readability.\n",
    "# 6. Use comments to provide additional context or explanations for complex or ambiguous names.\n",
    "\n",
    "# Example of Naming Functions and Variables:\n",
    "def calculate_total_price(item_price, quantity):\n",
    "    \"\"\"\n",
    "    Calculate the total price of a purchase.\n",
    "\n",
    "    Parameters:\n",
    "    item_price (float): The price of one item.\n",
    "    quantity (int): The quantity of items purchased.\n",
    "\n",
    "    Returns:\n",
    "    float: The total price of the purchase.\n",
    "    \"\"\"\n",
    "    total_price = item_price * quantity\n",
    "    return total_price\n",
    "\n",
    "# In this example:\n",
    "# - The function `calculate_total_price` uses descriptive names to indicate its purpose and parameters.\n",
    "# - The variables `item_price` and `quantity` use descriptive names to represent their respective values.\n",
    "# - The function follows the Python naming conventions, using lowercase letters and underscores for function and variable names.\n",
    "# - A docstring is provided to document the function's purpose, parameters, and return value, enhancing readability and usability."
   ]
  },
  {
   "cell_type": "code",
   "execution_count": null,
   "id": "8d61ba3d-25a1-4976-8281-23449d77552d",
   "metadata": {},
   "outputs": [],
   "source": []
  }
 ],
 "metadata": {
  "kernelspec": {
   "display_name": "Python 3 (ipykernel)",
   "language": "python",
   "name": "python3"
  },
  "language_info": {
   "codemirror_mode": {
    "name": "ipython",
    "version": 3
   },
   "file_extension": ".py",
   "mimetype": "text/x-python",
   "name": "python",
   "nbconvert_exporter": "python",
   "pygments_lexer": "ipython3",
   "version": "3.10.8"
  }
 },
 "nbformat": 4,
 "nbformat_minor": 5
}
